{
 "cells": [
  {
   "cell_type": "code",
   "execution_count": null,
   "metadata": {
    "colab": {
     "base_uri": "https://localhost:8080/",
     "height": 34
    },
    "colab_type": "code",
    "id": "NuFnchSfGdd8",
    "outputId": "0439e765-658f-4642-8cc4-33b98973c354"
   },
   "outputs": [
    {
     "name": "stdout",
     "output_type": "stream",
     "text": [
      "Mounted at /content/drive\n"
     ]
    }
   ],
   "source": [
    "# from google.colab import drive\n",
    "# drive.mount('/content/drive')"
   ]
  },
  {
   "cell_type": "code",
   "execution_count": null,
   "metadata": {
    "colab": {
     "base_uri": "https://localhost:8080/",
     "height": 1000
    },
    "colab_type": "code",
    "id": "qNkDouT4CfMz",
    "outputId": "5cd91eeb-d8d9-4c39-9169-70bad9357dca"
   },
   "outputs": [
    {
     "name": "stdout",
     "output_type": "stream",
     "text": [
      "Collecting numpy\n",
      "\u001b[?25l  Downloading https://files.pythonhosted.org/packages/63/97/af8a92864a04bfa48f1b5c9b1f8bf2ccb2847f24530026f26dd223de4ca0/numpy-1.19.2-cp36-cp36m-manylinux2010_x86_64.whl (14.5MB)\n",
      "\u001b[K     |████████████████████████████████| 14.5MB 227kB/s \n",
      "\u001b[?25hCollecting pandas\n",
      "\u001b[?25l  Downloading https://files.pythonhosted.org/packages/1c/11/e1f53db0614f2721027aab297c8afd2eaf58d33d566441a97ea454541c5e/pandas-1.1.2-cp36-cp36m-manylinux1_x86_64.whl (10.5MB)\n",
      "\u001b[K     |████████████████████████████████| 10.5MB 41.6MB/s \n",
      "\u001b[?25hCollecting tqdm\n",
      "\u001b[?25l  Downloading https://files.pythonhosted.org/packages/73/d5/f220e0c69b2f346b5649b66abebb391df1a00a59997a7ccf823325bd7a3e/tqdm-4.49.0-py2.py3-none-any.whl (69kB)\n",
      "\u001b[K     |████████████████████████████████| 71kB 8.4MB/s \n",
      "\u001b[?25hRequirement already up-to-date: torch in /usr/local/lib/python3.6/dist-packages (1.6.0+cu101)\n",
      "Collecting catalyst==20.09\n",
      "\u001b[?25l  Downloading https://files.pythonhosted.org/packages/00/18/ed836ed785bd781f34bc006138a6e0d8f91422586a0dbfb7ba4f5343e34f/catalyst-20.9-py2.py3-none-any.whl (452kB)\n",
      "\u001b[K     |████████████████████████████████| 460kB 39.4MB/s \n",
      "\u001b[?25hRequirement already satisfied, skipping upgrade: python-dateutil>=2.7.3 in /usr/local/lib/python3.6/dist-packages (from pandas) (2.8.1)\n",
      "Requirement already satisfied, skipping upgrade: pytz>=2017.2 in /usr/local/lib/python3.6/dist-packages (from pandas) (2018.9)\n",
      "Requirement already satisfied, skipping upgrade: future in /usr/local/lib/python3.6/dist-packages (from torch) (0.16.0)\n",
      "Collecting deprecation\n",
      "  Downloading https://files.pythonhosted.org/packages/02/c3/253a89ee03fc9b9682f1541728eb66db7db22148cd94f89ab22528cd1e1b/deprecation-2.1.0-py2.py3-none-any.whl\n",
      "Collecting tensorboardX\n",
      "\u001b[?25l  Downloading https://files.pythonhosted.org/packages/af/0c/4f41bcd45db376e6fe5c619c01100e9b7531c55791b7244815bac6eac32c/tensorboardX-2.1-py2.py3-none-any.whl (308kB)\n",
      "\u001b[K     |████████████████████████████████| 317kB 41.7MB/s \n",
      "\u001b[?25hRequirement already satisfied, skipping upgrade: matplotlib in /usr/local/lib/python3.6/dist-packages (from catalyst==20.09) (3.2.2)\n",
      "Requirement already satisfied, skipping upgrade: plotly>=4.1.0 in /usr/local/lib/python3.6/dist-packages (from catalyst==20.09) (4.4.1)\n",
      "Requirement already satisfied, skipping upgrade: scikit-learn>=0.20 in /usr/local/lib/python3.6/dist-packages (from catalyst==20.09) (0.22.2.post1)\n",
      "Collecting GitPython>=3.1.1\n",
      "\u001b[?25l  Downloading https://files.pythonhosted.org/packages/09/bc/ae32e07e89cc25b9e5c793d19a1e5454d30a8e37d95040991160f942519e/GitPython-3.1.8-py3-none-any.whl (159kB)\n",
      "\u001b[K     |████████████████████████████████| 163kB 40.9MB/s \n",
      "\u001b[?25hRequirement already satisfied, skipping upgrade: ipython in /usr/local/lib/python3.6/dist-packages (from catalyst==20.09) (5.5.0)\n",
      "Requirement already satisfied, skipping upgrade: packaging in /usr/local/lib/python3.6/dist-packages (from catalyst==20.09) (20.4)\n",
      "Requirement already satisfied, skipping upgrade: tensorboard>=1.14.0 in /usr/local/lib/python3.6/dist-packages (from catalyst==20.09) (2.3.0)\n",
      "Requirement already satisfied, skipping upgrade: PyYAML in /usr/local/lib/python3.6/dist-packages (from catalyst==20.09) (3.13)\n",
      "Requirement already satisfied, skipping upgrade: six>=1.5 in /usr/local/lib/python3.6/dist-packages (from python-dateutil>=2.7.3->pandas) (1.15.0)\n",
      "Requirement already satisfied, skipping upgrade: protobuf>=3.8.0 in /usr/local/lib/python3.6/dist-packages (from tensorboardX->catalyst==20.09) (3.12.4)\n",
      "Requirement already satisfied, skipping upgrade: kiwisolver>=1.0.1 in /usr/local/lib/python3.6/dist-packages (from matplotlib->catalyst==20.09) (1.2.0)\n",
      "Requirement already satisfied, skipping upgrade: pyparsing!=2.0.4,!=2.1.2,!=2.1.6,>=2.0.1 in /usr/local/lib/python3.6/dist-packages (from matplotlib->catalyst==20.09) (2.4.7)\n",
      "Requirement already satisfied, skipping upgrade: cycler>=0.10 in /usr/local/lib/python3.6/dist-packages (from matplotlib->catalyst==20.09) (0.10.0)\n",
      "Requirement already satisfied, skipping upgrade: retrying>=1.3.3 in /usr/local/lib/python3.6/dist-packages (from plotly>=4.1.0->catalyst==20.09) (1.3.3)\n",
      "Requirement already satisfied, skipping upgrade: scipy>=0.17.0 in /usr/local/lib/python3.6/dist-packages (from scikit-learn>=0.20->catalyst==20.09) (1.4.1)\n",
      "Requirement already satisfied, skipping upgrade: joblib>=0.11 in /usr/local/lib/python3.6/dist-packages (from scikit-learn>=0.20->catalyst==20.09) (0.16.0)\n",
      "Collecting gitdb<5,>=4.0.1\n",
      "\u001b[?25l  Downloading https://files.pythonhosted.org/packages/48/11/d1800bca0a3bae820b84b7d813ad1eff15a48a64caea9c823fc8c1b119e8/gitdb-4.0.5-py3-none-any.whl (63kB)\n",
      "\u001b[K     |████████████████████████████████| 71kB 8.1MB/s \n",
      "\u001b[?25hRequirement already satisfied, skipping upgrade: decorator in /usr/local/lib/python3.6/dist-packages (from ipython->catalyst==20.09) (4.4.2)\n",
      "Requirement already satisfied, skipping upgrade: prompt-toolkit<2.0.0,>=1.0.4 in /usr/local/lib/python3.6/dist-packages (from ipython->catalyst==20.09) (1.0.18)\n",
      "Requirement already satisfied, skipping upgrade: pickleshare in /usr/local/lib/python3.6/dist-packages (from ipython->catalyst==20.09) (0.7.5)\n",
      "Requirement already satisfied, skipping upgrade: traitlets>=4.2 in /usr/local/lib/python3.6/dist-packages (from ipython->catalyst==20.09) (4.3.3)\n",
      "Requirement already satisfied, skipping upgrade: pexpect; sys_platform != \"win32\" in /usr/local/lib/python3.6/dist-packages (from ipython->catalyst==20.09) (4.8.0)\n",
      "Requirement already satisfied, skipping upgrade: setuptools>=18.5 in /usr/local/lib/python3.6/dist-packages (from ipython->catalyst==20.09) (50.3.0)\n",
      "Requirement already satisfied, skipping upgrade: pygments in /usr/local/lib/python3.6/dist-packages (from ipython->catalyst==20.09) (2.6.1)\n",
      "Requirement already satisfied, skipping upgrade: simplegeneric>0.8 in /usr/local/lib/python3.6/dist-packages (from ipython->catalyst==20.09) (0.8.1)\n",
      "Requirement already satisfied, skipping upgrade: grpcio>=1.24.3 in /usr/local/lib/python3.6/dist-packages (from tensorboard>=1.14.0->catalyst==20.09) (1.32.0)\n",
      "Requirement already satisfied, skipping upgrade: werkzeug>=0.11.15 in /usr/local/lib/python3.6/dist-packages (from tensorboard>=1.14.0->catalyst==20.09) (1.0.1)\n",
      "Requirement already satisfied, skipping upgrade: wheel>=0.26; python_version >= \"3\" in /usr/local/lib/python3.6/dist-packages (from tensorboard>=1.14.0->catalyst==20.09) (0.35.1)\n",
      "Requirement already satisfied, skipping upgrade: requests<3,>=2.21.0 in /usr/local/lib/python3.6/dist-packages (from tensorboard>=1.14.0->catalyst==20.09) (2.23.0)\n",
      "Requirement already satisfied, skipping upgrade: tensorboard-plugin-wit>=1.6.0 in /usr/local/lib/python3.6/dist-packages (from tensorboard>=1.14.0->catalyst==20.09) (1.7.0)\n",
      "Requirement already satisfied, skipping upgrade: absl-py>=0.4 in /usr/local/lib/python3.6/dist-packages (from tensorboard>=1.14.0->catalyst==20.09) (0.10.0)\n",
      "Requirement already satisfied, skipping upgrade: google-auth-oauthlib<0.5,>=0.4.1 in /usr/local/lib/python3.6/dist-packages (from tensorboard>=1.14.0->catalyst==20.09) (0.4.1)\n",
      "Requirement already satisfied, skipping upgrade: google-auth<2,>=1.6.3 in /usr/local/lib/python3.6/dist-packages (from tensorboard>=1.14.0->catalyst==20.09) (1.17.2)\n",
      "Requirement already satisfied, skipping upgrade: markdown>=2.6.8 in /usr/local/lib/python3.6/dist-packages (from tensorboard>=1.14.0->catalyst==20.09) (3.2.2)\n",
      "Collecting smmap<4,>=3.0.1\n",
      "  Downloading https://files.pythonhosted.org/packages/b0/9a/4d409a6234eb940e6a78dfdfc66156e7522262f5f2fecca07dc55915952d/smmap-3.0.4-py2.py3-none-any.whl\n",
      "Requirement already satisfied, skipping upgrade: wcwidth in /usr/local/lib/python3.6/dist-packages (from prompt-toolkit<2.0.0,>=1.0.4->ipython->catalyst==20.09) (0.2.5)\n",
      "Requirement already satisfied, skipping upgrade: ipython-genutils in /usr/local/lib/python3.6/dist-packages (from traitlets>=4.2->ipython->catalyst==20.09) (0.2.0)\n",
      "Requirement already satisfied, skipping upgrade: ptyprocess>=0.5 in /usr/local/lib/python3.6/dist-packages (from pexpect; sys_platform != \"win32\"->ipython->catalyst==20.09) (0.6.0)\n",
      "Requirement already satisfied, skipping upgrade: chardet<4,>=3.0.2 in /usr/local/lib/python3.6/dist-packages (from requests<3,>=2.21.0->tensorboard>=1.14.0->catalyst==20.09) (3.0.4)\n",
      "Requirement already satisfied, skipping upgrade: urllib3!=1.25.0,!=1.25.1,<1.26,>=1.21.1 in /usr/local/lib/python3.6/dist-packages (from requests<3,>=2.21.0->tensorboard>=1.14.0->catalyst==20.09) (1.24.3)\n",
      "Requirement already satisfied, skipping upgrade: idna<3,>=2.5 in /usr/local/lib/python3.6/dist-packages (from requests<3,>=2.21.0->tensorboard>=1.14.0->catalyst==20.09) (2.10)\n",
      "Requirement already satisfied, skipping upgrade: certifi>=2017.4.17 in /usr/local/lib/python3.6/dist-packages (from requests<3,>=2.21.0->tensorboard>=1.14.0->catalyst==20.09) (2020.6.20)\n",
      "Requirement already satisfied, skipping upgrade: requests-oauthlib>=0.7.0 in /usr/local/lib/python3.6/dist-packages (from google-auth-oauthlib<0.5,>=0.4.1->tensorboard>=1.14.0->catalyst==20.09) (1.3.0)\n",
      "Requirement already satisfied, skipping upgrade: rsa<5,>=3.1.4; python_version >= \"3\" in /usr/local/lib/python3.6/dist-packages (from google-auth<2,>=1.6.3->tensorboard>=1.14.0->catalyst==20.09) (4.6)\n",
      "Requirement already satisfied, skipping upgrade: cachetools<5.0,>=2.0.0 in /usr/local/lib/python3.6/dist-packages (from google-auth<2,>=1.6.3->tensorboard>=1.14.0->catalyst==20.09) (4.1.1)\n",
      "Requirement already satisfied, skipping upgrade: pyasn1-modules>=0.2.1 in /usr/local/lib/python3.6/dist-packages (from google-auth<2,>=1.6.3->tensorboard>=1.14.0->catalyst==20.09) (0.2.8)\n",
      "Requirement already satisfied, skipping upgrade: importlib-metadata; python_version < \"3.8\" in /usr/local/lib/python3.6/dist-packages (from markdown>=2.6.8->tensorboard>=1.14.0->catalyst==20.09) (1.7.0)\n",
      "Requirement already satisfied, skipping upgrade: oauthlib>=3.0.0 in /usr/local/lib/python3.6/dist-packages (from requests-oauthlib>=0.7.0->google-auth-oauthlib<0.5,>=0.4.1->tensorboard>=1.14.0->catalyst==20.09) (3.1.0)\n",
      "Requirement already satisfied, skipping upgrade: pyasn1>=0.1.3 in /usr/local/lib/python3.6/dist-packages (from rsa<5,>=3.1.4; python_version >= \"3\"->google-auth<2,>=1.6.3->tensorboard>=1.14.0->catalyst==20.09) (0.4.8)\n",
      "Requirement already satisfied, skipping upgrade: zipp>=0.5 in /usr/local/lib/python3.6/dist-packages (from importlib-metadata; python_version < \"3.8\"->markdown>=2.6.8->tensorboard>=1.14.0->catalyst==20.09) (3.1.0)\n",
      "\u001b[31mERROR: tensorflow 2.3.0 has requirement numpy<1.19.0,>=1.16.0, but you'll have numpy 1.19.2 which is incompatible.\u001b[0m\n",
      "\u001b[31mERROR: google-colab 1.0.0 has requirement pandas~=1.0.0; python_version >= \"3.0\", but you'll have pandas 1.1.2 which is incompatible.\u001b[0m\n",
      "\u001b[31mERROR: datascience 0.10.6 has requirement folium==0.2.1, but you'll have folium 0.8.3 which is incompatible.\u001b[0m\n",
      "\u001b[31mERROR: albumentations 0.1.12 has requirement imgaug<0.2.7,>=0.2.5, but you'll have imgaug 0.2.9 which is incompatible.\u001b[0m\n",
      "Installing collected packages: numpy, pandas, tqdm, deprecation, tensorboardX, smmap, gitdb, GitPython, catalyst\n",
      "  Found existing installation: numpy 1.18.5\n",
      "    Uninstalling numpy-1.18.5:\n",
      "      Successfully uninstalled numpy-1.18.5\n",
      "  Found existing installation: pandas 1.0.5\n",
      "    Uninstalling pandas-1.0.5:\n",
      "      Successfully uninstalled pandas-1.0.5\n",
      "  Found existing installation: tqdm 4.41.1\n",
      "    Uninstalling tqdm-4.41.1:\n",
      "      Successfully uninstalled tqdm-4.41.1\n",
      "Successfully installed GitPython-3.1.8 catalyst-20.9 deprecation-2.1.0 gitdb-4.0.5 numpy-1.19.2 pandas-1.1.2 smmap-3.0.4 tensorboardX-2.1 tqdm-4.49.0\n"
     ]
    },
    {
     "data": {
      "application/vnd.colab-display-data+json": {
       "pip_warning": {
        "packages": [
         "numpy",
         "pandas"
        ]
       }
      }
     },
     "metadata": {
      "tags": []
     },
     "output_type": "display_data"
    }
   ],
   "source": [
    "! pip install --upgrade numpy pandas tqdm torch catalyst==20.09"
   ]
  },
  {
   "cell_type": "code",
   "execution_count": 1,
   "metadata": {
    "colab": {},
    "colab_type": "code",
    "id": "o08k0IFOCfM3"
   },
   "outputs": [],
   "source": [
    "import os\n",
    "import json\n",
    "import pickle\n",
    "from bisect import bisect_left, bisect_right\n",
    "from datetime import datetime, timedelta\n",
    "from collections import defaultdict, Counter\n",
    "\n",
    "import numpy as np\n",
    "import pandas as pd\n",
    "from tqdm import tqdm\n",
    "\n",
    "# GPU hack if you need\n",
    "os.environ[\"CUDA_VISIBLE_DEVICES\"] = \"1\""
   ]
  },
  {
   "cell_type": "markdown",
   "metadata": {
    "colab_type": "text",
    "id": "MD0TKDyMCfM7"
   },
   "source": [
    "# Data\n",
    "\n",
    "Columns\n",
    "- `party_rk` – client unique identifier\n",
    "- `account_rk` – client account unique identifier\n",
    "- `financial_account_type_cd` – debit/credit card flag\n",
    "- `transaction_dttm` – operation datetime\n",
    "- `transaction_type_desc` – purchase/payment/...\n",
    "- `transaction_amt_rur` – transaction price\n",
    "- `merchant_type` - DUTY FREE STORES/FUEL DEALERS/RESTAURANTS/ etc\n",
    "- `merchant_group_rk` - McDonald's/Wildberries/ etc\n",
    "\n",
    "It's important that table is already sorted by `transaction_dttm` column!!!"
   ]
  },
  {
   "cell_type": "code",
   "execution_count": 2,
   "metadata": {
    "colab": {},
    "colab_type": "code",
    "id": "NxRbuZnfCfM8",
    "scrolled": false
   },
   "outputs": [
    {
     "data": {
      "text/html": [
       "<div>\n",
       "<style scoped>\n",
       "    .dataframe tbody tr th:only-of-type {\n",
       "        vertical-align: middle;\n",
       "    }\n",
       "\n",
       "    .dataframe tbody tr th {\n",
       "        vertical-align: top;\n",
       "    }\n",
       "\n",
       "    .dataframe thead th {\n",
       "        text-align: right;\n",
       "    }\n",
       "</style>\n",
       "<table border=\"1\" class=\"dataframe\">\n",
       "  <thead>\n",
       "    <tr style=\"text-align: right;\">\n",
       "      <th></th>\n",
       "      <th>party_rk</th>\n",
       "      <th>account_rk</th>\n",
       "      <th>financial_account_type_cd</th>\n",
       "      <th>transaction_dttm</th>\n",
       "      <th>transaction_type_desc</th>\n",
       "      <th>transaction_amt_rur</th>\n",
       "      <th>merchant_rk</th>\n",
       "      <th>merchant_type</th>\n",
       "      <th>merchant_group_rk</th>\n",
       "      <th>category</th>\n",
       "    </tr>\n",
       "  </thead>\n",
       "  <tbody>\n",
       "    <tr>\n",
       "      <th>0</th>\n",
       "      <td>20337</td>\n",
       "      <td>19666</td>\n",
       "      <td>1</td>\n",
       "      <td>2019-01-01</td>\n",
       "      <td>Покупка</td>\n",
       "      <td>84.00</td>\n",
       "      <td>88676.0</td>\n",
       "      <td>348.0</td>\n",
       "      <td>NaN</td>\n",
       "      <td>Сувениры</td>\n",
       "    </tr>\n",
       "    <tr>\n",
       "      <th>1</th>\n",
       "      <td>63404</td>\n",
       "      <td>72991</td>\n",
       "      <td>1</td>\n",
       "      <td>2019-01-01</td>\n",
       "      <td>Покупка</td>\n",
       "      <td>410.00</td>\n",
       "      <td>887248.0</td>\n",
       "      <td>330.0</td>\n",
       "      <td>725.0</td>\n",
       "      <td>Фаст Фуд</td>\n",
       "    </tr>\n",
       "    <tr>\n",
       "      <th>2</th>\n",
       "      <td>24789</td>\n",
       "      <td>23517</td>\n",
       "      <td>2</td>\n",
       "      <td>2019-01-01</td>\n",
       "      <td>Покупка</td>\n",
       "      <td>701.44</td>\n",
       "      <td>830014.0</td>\n",
       "      <td>291.0</td>\n",
       "      <td>NaN</td>\n",
       "      <td>Супермаркеты</td>\n",
       "    </tr>\n",
       "    <tr>\n",
       "      <th>3</th>\n",
       "      <td>57970</td>\n",
       "      <td>64838</td>\n",
       "      <td>2</td>\n",
       "      <td>2019-01-01</td>\n",
       "      <td>Покупка</td>\n",
       "      <td>6203.70</td>\n",
       "      <td>363834.0</td>\n",
       "      <td>278.0</td>\n",
       "      <td>454.0</td>\n",
       "      <td>Дом/Ремонт</td>\n",
       "    </tr>\n",
       "    <tr>\n",
       "      <th>4</th>\n",
       "      <td>12232</td>\n",
       "      <td>11591</td>\n",
       "      <td>2</td>\n",
       "      <td>2019-01-01</td>\n",
       "      <td>Покупка</td>\n",
       "      <td>734.53</td>\n",
       "      <td>85919.0</td>\n",
       "      <td>286.0</td>\n",
       "      <td>878.0</td>\n",
       "      <td>Супермаркеты</td>\n",
       "    </tr>\n",
       "  </tbody>\n",
       "</table>\n",
       "</div>"
      ],
      "text/plain": [
       "   party_rk  account_rk  financial_account_type_cd transaction_dttm  \\\n",
       "0     20337       19666                          1       2019-01-01   \n",
       "1     63404       72991                          1       2019-01-01   \n",
       "2     24789       23517                          2       2019-01-01   \n",
       "3     57970       64838                          2       2019-01-01   \n",
       "4     12232       11591                          2       2019-01-01   \n",
       "\n",
       "  transaction_type_desc  transaction_amt_rur  merchant_rk  merchant_type  \\\n",
       "0               Покупка                84.00      88676.0          348.0   \n",
       "1               Покупка               410.00     887248.0          330.0   \n",
       "2               Покупка               701.44     830014.0          291.0   \n",
       "3               Покупка              6203.70     363834.0          278.0   \n",
       "4               Покупка               734.53      85919.0          286.0   \n",
       "\n",
       "   merchant_group_rk      category  \n",
       "0                NaN      Сувениры  \n",
       "1              725.0      Фаст Фуд  \n",
       "2                NaN  Супермаркеты  \n",
       "3              454.0    Дом/Ремонт  \n",
       "4              878.0  Супермаркеты  "
      ]
     },
     "execution_count": 2,
     "metadata": {},
     "output_type": "execute_result"
    }
   ],
   "source": [
    "DATADIR = \"./hackathon_data\" # \"./data\"\n",
    "transactions_path = f\"{DATADIR}/avk_hackathon_data_transactions.csv\"\n",
    "socdem_path = f\"{DATADIR}/avk_hackathon_data_party_x_socdem.csv\"\n",
    "pd.read_csv(f\"{DATADIR}/avk_hackathon_data_transactions.csv\", nrows=5)"
   ]
  },
  {
   "cell_type": "code",
   "execution_count": 3,
   "metadata": {},
   "outputs": [
    {
     "data": {
      "text/html": [
       "<div>\n",
       "<style scoped>\n",
       "    .dataframe tbody tr th:only-of-type {\n",
       "        vertical-align: middle;\n",
       "    }\n",
       "\n",
       "    .dataframe tbody tr th {\n",
       "        vertical-align: top;\n",
       "    }\n",
       "\n",
       "    .dataframe thead th {\n",
       "        text-align: right;\n",
       "    }\n",
       "</style>\n",
       "<table border=\"1\" class=\"dataframe\">\n",
       "  <thead>\n",
       "    <tr style=\"text-align: right;\">\n",
       "      <th></th>\n",
       "      <th>party_rk</th>\n",
       "      <th>gender_cd</th>\n",
       "      <th>age</th>\n",
       "      <th>marital_status_desc</th>\n",
       "      <th>children_cnt</th>\n",
       "      <th>region_flg</th>\n",
       "    </tr>\n",
       "  </thead>\n",
       "  <tbody>\n",
       "    <tr>\n",
       "      <th>0</th>\n",
       "      <td>61243</td>\n",
       "      <td>F</td>\n",
       "      <td>70.0</td>\n",
       "      <td>NaN</td>\n",
       "      <td>0</td>\n",
       "      <td>0</td>\n",
       "    </tr>\n",
       "    <tr>\n",
       "      <th>1</th>\n",
       "      <td>66535</td>\n",
       "      <td>F</td>\n",
       "      <td>25.0</td>\n",
       "      <td>NaN</td>\n",
       "      <td>0</td>\n",
       "      <td>0</td>\n",
       "    </tr>\n",
       "    <tr>\n",
       "      <th>2</th>\n",
       "      <td>83721</td>\n",
       "      <td>M</td>\n",
       "      <td>55.0</td>\n",
       "      <td>Женат/замужем</td>\n",
       "      <td>0</td>\n",
       "      <td>0</td>\n",
       "    </tr>\n",
       "    <tr>\n",
       "      <th>3</th>\n",
       "      <td>88238</td>\n",
       "      <td>F</td>\n",
       "      <td>35.0</td>\n",
       "      <td>NaN</td>\n",
       "      <td>0</td>\n",
       "      <td>0</td>\n",
       "    </tr>\n",
       "    <tr>\n",
       "      <th>4</th>\n",
       "      <td>57179</td>\n",
       "      <td>F</td>\n",
       "      <td>30.0</td>\n",
       "      <td>Женат/замужем</td>\n",
       "      <td>0</td>\n",
       "      <td>0</td>\n",
       "    </tr>\n",
       "  </tbody>\n",
       "</table>\n",
       "</div>"
      ],
      "text/plain": [
       "   party_rk gender_cd   age marital_status_desc  children_cnt  region_flg\n",
       "0     61243         F  70.0                 NaN             0           0\n",
       "1     66535         F  25.0                 NaN             0           0\n",
       "2     83721         M  55.0       Женат/замужем             0           0\n",
       "3     88238         F  35.0                 NaN             0           0\n",
       "4     57179         F  30.0       Женат/замужем             0           0"
      ]
     },
     "execution_count": 3,
     "metadata": {},
     "output_type": "execute_result"
    }
   ],
   "source": [
    "pd.read_csv(f\"{DATADIR}/avk_hackathon_data_party_x_socdem.csv\", nrows=5)"
   ]
  },
  {
   "cell_type": "code",
   "execution_count": 4,
   "metadata": {},
   "outputs": [
    {
     "data": {
      "text/html": [
       "<div>\n",
       "<style scoped>\n",
       "    .dataframe tbody tr th:only-of-type {\n",
       "        vertical-align: middle;\n",
       "    }\n",
       "\n",
       "    .dataframe tbody tr th {\n",
       "        vertical-align: top;\n",
       "    }\n",
       "\n",
       "    .dataframe thead th {\n",
       "        text-align: right;\n",
       "    }\n",
       "</style>\n",
       "<table border=\"1\" class=\"dataframe\">\n",
       "  <thead>\n",
       "    <tr style=\"text-align: right;\">\n",
       "      <th></th>\n",
       "      <th>party_rk</th>\n",
       "      <th>account_rk</th>\n",
       "      <th>prev_month</th>\n",
       "      <th>cur_month</th>\n",
       "      <th>balance_chng</th>\n",
       "    </tr>\n",
       "  </thead>\n",
       "  <tbody>\n",
       "    <tr>\n",
       "      <th>0</th>\n",
       "      <td>51607</td>\n",
       "      <td>55309</td>\n",
       "      <td>2018-12-31</td>\n",
       "      <td>2019-01-31</td>\n",
       "      <td>15000.0</td>\n",
       "    </tr>\n",
       "    <tr>\n",
       "      <th>1</th>\n",
       "      <td>59074</td>\n",
       "      <td>70471</td>\n",
       "      <td>2018-12-31</td>\n",
       "      <td>2019-01-31</td>\n",
       "      <td>0.0</td>\n",
       "    </tr>\n",
       "    <tr>\n",
       "      <th>2</th>\n",
       "      <td>33941</td>\n",
       "      <td>33065</td>\n",
       "      <td>2018-12-31</td>\n",
       "      <td>2019-01-31</td>\n",
       "      <td>-15000.0</td>\n",
       "    </tr>\n",
       "    <tr>\n",
       "      <th>3</th>\n",
       "      <td>9336</td>\n",
       "      <td>8611</td>\n",
       "      <td>2018-12-31</td>\n",
       "      <td>2019-01-31</td>\n",
       "      <td>-50000.0</td>\n",
       "    </tr>\n",
       "    <tr>\n",
       "      <th>4</th>\n",
       "      <td>13958</td>\n",
       "      <td>8421</td>\n",
       "      <td>2018-12-31</td>\n",
       "      <td>2019-01-31</td>\n",
       "      <td>-20000.0</td>\n",
       "    </tr>\n",
       "  </tbody>\n",
       "</table>\n",
       "</div>"
      ],
      "text/plain": [
       "   party_rk  account_rk  prev_month   cur_month  balance_chng\n",
       "0     51607       55309  2018-12-31  2019-01-31       15000.0\n",
       "1     59074       70471  2018-12-31  2019-01-31           0.0\n",
       "2     33941       33065  2018-12-31  2019-01-31      -15000.0\n",
       "3      9336        8611  2018-12-31  2019-01-31      -50000.0\n",
       "4     13958        8421  2018-12-31  2019-01-31      -20000.0"
      ]
     },
     "execution_count": 4,
     "metadata": {},
     "output_type": "execute_result"
    }
   ],
   "source": [
    "pd.read_csv(f\"{DATADIR}/avk_hackathon_data_account_x_balance.csv\", nrows=5)"
   ]
  },
  {
   "cell_type": "code",
   "execution_count": 5,
   "metadata": {},
   "outputs": [
    {
     "data": {
      "text/html": [
       "<div>\n",
       "<style scoped>\n",
       "    .dataframe tbody tr th:only-of-type {\n",
       "        vertical-align: middle;\n",
       "    }\n",
       "\n",
       "    .dataframe tbody tr th {\n",
       "        vertical-align: top;\n",
       "    }\n",
       "\n",
       "    .dataframe thead th {\n",
       "        text-align: right;\n",
       "    }\n",
       "</style>\n",
       "<table border=\"1\" class=\"dataframe\">\n",
       "  <thead>\n",
       "    <tr style=\"text-align: right;\">\n",
       "      <th></th>\n",
       "      <th>party_rk</th>\n",
       "      <th>product1</th>\n",
       "      <th>product2</th>\n",
       "      <th>product3</th>\n",
       "      <th>product4</th>\n",
       "      <th>product5</th>\n",
       "      <th>product6</th>\n",
       "      <th>product7</th>\n",
       "    </tr>\n",
       "  </thead>\n",
       "  <tbody>\n",
       "    <tr>\n",
       "      <th>0</th>\n",
       "      <td>74874</td>\n",
       "      <td>1</td>\n",
       "      <td>1</td>\n",
       "      <td>0</td>\n",
       "      <td>0</td>\n",
       "      <td>0</td>\n",
       "      <td>0</td>\n",
       "      <td>0</td>\n",
       "    </tr>\n",
       "    <tr>\n",
       "      <th>1</th>\n",
       "      <td>83618</td>\n",
       "      <td>0</td>\n",
       "      <td>0</td>\n",
       "      <td>1</td>\n",
       "      <td>1</td>\n",
       "      <td>1</td>\n",
       "      <td>0</td>\n",
       "      <td>0</td>\n",
       "    </tr>\n",
       "    <tr>\n",
       "      <th>2</th>\n",
       "      <td>73766</td>\n",
       "      <td>0</td>\n",
       "      <td>0</td>\n",
       "      <td>0</td>\n",
       "      <td>1</td>\n",
       "      <td>1</td>\n",
       "      <td>0</td>\n",
       "      <td>0</td>\n",
       "    </tr>\n",
       "    <tr>\n",
       "      <th>3</th>\n",
       "      <td>60218</td>\n",
       "      <td>0</td>\n",
       "      <td>1</td>\n",
       "      <td>0</td>\n",
       "      <td>0</td>\n",
       "      <td>0</td>\n",
       "      <td>0</td>\n",
       "      <td>0</td>\n",
       "    </tr>\n",
       "    <tr>\n",
       "      <th>4</th>\n",
       "      <td>47253</td>\n",
       "      <td>0</td>\n",
       "      <td>0</td>\n",
       "      <td>0</td>\n",
       "      <td>1</td>\n",
       "      <td>1</td>\n",
       "      <td>0</td>\n",
       "      <td>0</td>\n",
       "    </tr>\n",
       "  </tbody>\n",
       "</table>\n",
       "</div>"
      ],
      "text/plain": [
       "   party_rk  product1  product2  product3  product4  product5  product6  \\\n",
       "0     74874         1         1         0         0         0         0   \n",
       "1     83618         0         0         1         1         1         0   \n",
       "2     73766         0         0         0         1         1         0   \n",
       "3     60218         0         1         0         0         0         0   \n",
       "4     47253         0         0         0         1         1         0   \n",
       "\n",
       "   product7  \n",
       "0         0  \n",
       "1         0  \n",
       "2         0  \n",
       "3         0  \n",
       "4         0  "
      ]
     },
     "execution_count": 5,
     "metadata": {},
     "output_type": "execute_result"
    }
   ],
   "source": [
    "pd.read_csv(f\"{DATADIR}/avk_hackathon_data_party_products.csv\", nrows=5)"
   ]
  },
  {
   "cell_type": "markdown",
   "metadata": {
    "colab_type": "text",
    "id": "VT0HZR2_CfNA"
   },
   "source": [
    "## Mappings\n",
    "~1 min"
   ]
  },
  {
   "cell_type": "code",
   "execution_count": null,
   "metadata": {
    "colab": {},
    "colab_type": "code",
    "id": "AKHwvxB5CfNA"
   },
   "outputs": [],
   "source": [
    "# Prepare & save mappings\n",
    "mappings = defaultdict(dict)\n",
    "unk_token = \"<UNK>\"\n",
    "\n",
    "\n",
    "def create_mapping(values):\n",
    "    mapping = {unk_token: 0}\n",
    "    for v in values:\n",
    "        if not pd.isna(v):\n",
    "            mapping[str(v)] = len(mapping)\n",
    "\n",
    "    return mapping\n",
    "\n",
    "\n",
    "for col in tqdm(\n",
    "    [\n",
    "        \"transaction_type_desc\",\n",
    "        \"merchant_rk\",\n",
    "        \"merchant_type\",\n",
    "        \"merchant_group_rk\",\n",
    "        \"category\",\n",
    "        \"financial_account_type_cd\",\n",
    "    ]\n",
    "):\n",
    "\n",
    "    col_values = (\n",
    "        pd.read_csv(transactions_path, usecols=[col])[col]\n",
    "        .fillna(unk_token)\n",
    "        .astype(str)\n",
    "    )\n",
    "    mappings[col] = create_mapping(col_values.unique())\n",
    "    del col_values\n",
    "\n",
    "\n",
    "with open(f\"{DATADIR}/mappings.json\", \"w\") as f:\n",
    "    json.dump(mappings, f)"
   ]
  },
  {
   "cell_type": "code",
   "execution_count": 3,
   "metadata": {
    "colab": {},
    "colab_type": "code",
    "id": "N_2kzArrCfND"
   },
   "outputs": [],
   "source": [
    "# load mappings\n",
    "with open(f\"{DATADIR}/mappings.json\", 'r') as f:\n",
    "    mappings = json.load(f)"
   ]
  },
  {
   "cell_type": "code",
   "execution_count": 4,
   "metadata": {},
   "outputs": [
    {
     "data": {
      "text/plain": [
       "dict_keys(['transaction_type_desc', 'merchant_rk', 'merchant_type', 'merchant_group_rk', 'category', 'financial_account_type_cd'])"
      ]
     },
     "execution_count": 4,
     "metadata": {},
     "output_type": "execute_result"
    }
   ],
   "source": [
    "mappings.keys()"
   ]
  },
  {
   "cell_type": "markdown",
   "metadata": {
    "colab_type": "text",
    "id": "Yc69QUTfCfNG"
   },
   "source": [
    "## Parse transactions by users\n",
    "~ 40 min"
   ]
  },
  {
   "cell_type": "code",
   "execution_count": null,
   "metadata": {
    "colab": {},
    "colab_type": "code",
    "id": "0ezUae-0CfNG"
   },
   "outputs": [],
   "source": [
    "# Prepare & save client data\n",
    "party2dates = defaultdict(list)  # for each party save a series of the transaction dates \n",
    "party2sum = defaultdict(list)  # for each party save a series of the transaction costs \n",
    "party2merchant_type = defaultdict(list)  # for each party save a series of the transaction_type \n",
    "party2trans_type = defaultdict(list)  # for each party save a series of the transaction merchant_type\n",
    "\n",
    "usecols = [\n",
    "    \"party_rk\",\n",
    "    \"transaction_dttm\",\n",
    "    \"transaction_amt_rur\",\n",
    "    \"merchant_type\",\n",
    "    \"transaction_type_desc\",\n",
    "]\n",
    "\n",
    "for chunk in tqdm(\n",
    "    pd.read_csv(transactions_path, usecols=usecols, chunksize=100_000)\n",
    "):\n",
    "\n",
    "    chunk[\"merchant_type\"] = (\n",
    "        chunk[\"merchant_type\"].fillna(unk_token).astype(str)\n",
    "    )\n",
    "    chunk[\"transaction_type_desc\"] = (\n",
    "        chunk[\"transaction_type_desc\"].fillna(unk_token).astype(str)\n",
    "    )\n",
    "    chunk[\"transaction_amt_rur\"] = chunk[\"transaction_amt_rur\"].fillna(0)\n",
    "\n",
    "    for i, row in chunk.iterrows():\n",
    "        party2dates[row.party_rk].append(row.transaction_dttm)\n",
    "        party2sum[row.party_rk].append(row.transaction_amt_rur)\n",
    "        party2merchant_type[row.party_rk].append(\n",
    "            mappings[\"merchant_type\"][row.merchant_type]\n",
    "        )\n",
    "        party2trans_type[row.party_rk].append(\n",
    "            mappings[\"transaction_type_desc\"][row.transaction_type_desc]\n",
    "        )\n",
    "\n",
    "    del chunk\n",
    "\n",
    "pickle.dump(party2dates, open(f\"{DATADIR}/party2dates.pkl\", \"wb\"))\n",
    "pickle.dump(party2sum, open(f\"{DATADIR}/party2sum.pkl\", \"wb\"))\n",
    "pickle.dump(party2merchant_type, open(f\"{DATADIR}/party2merchant_type.pkl\", \"wb\"))\n",
    "pickle.dump(party2trans_type, open(f\"{DATADIR}/party2trans_type.pkl\", \"wb\"))"
   ]
  },
  {
   "cell_type": "code",
   "execution_count": 5,
   "metadata": {
    "colab": {},
    "colab_type": "code",
    "id": "FQfeDGZZCfNJ"
   },
   "outputs": [],
   "source": [
    "# load client data\n",
    "party2dates = pickle.load(open(f\"{DATADIR}/party2dates.pkl\", 'rb'))\n",
    "party2sum = pickle.load(open(f\"{DATADIR}/party2sum.pkl\", 'rb'))\n",
    "party2merchant_type = pickle.load(open(f\"{DATADIR}/party2merchant_type.pkl\", 'rb'))\n",
    "party2trans_type = pickle.load(open(f\"{DATADIR}/party2trans_type.pkl\", 'rb'))"
   ]
  },
  {
   "cell_type": "code",
   "execution_count": 68,
   "metadata": {},
   "outputs": [
    {
     "name": "stderr",
     "output_type": "stream",
     "text": [
      "1it [00:05,  5.22s/it]\n"
     ]
    }
   ],
   "source": [
    "# Prepare & save client data\n",
    "party2socialfeats = defaultdict(list)  # for each party save a series of the transaction dates \n",
    "\n",
    "\n",
    "usecols = [\n",
    "    \"party_rk\",\n",
    "    \"gender_cd\",\n",
    "    \"age\",\n",
    "    \"marital_status_desc\",\n",
    "    \"children_cnt\",\n",
    "    \"region_flg\"\n",
    "]\n",
    "\n",
    "for chunk in tqdm(\n",
    "    pd.read_csv(socdem_path, usecols=usecols, chunksize=100_000)\n",
    "):\n",
    "\n",
    "    chunk[\"marital_status_desc\"] = (\n",
    "        chunk[\"marital_status_desc\"].fillna('Иннопланетяне').astype('category').cat.codes\n",
    "    )\n",
    "    \n",
    "    chunk[\"gender_cd\"] = (\n",
    "        chunk[\"gender_cd\"].astype('category').cat.codes\n",
    "    )\n",
    "    \n",
    "    chunk.dropna()\n",
    "\n",
    "    for i, row in chunk.iterrows():\n",
    "        party2socialfeats[row.party_rk] = [row.gender_cd, row.age, row.marital_status_desc, \n",
    "                                           row.children_cnt, row.region_flg]\n",
    "        \n",
    "    del chunk\n",
    "\n",
    "pickle.dump(party2socialfeats, open(f\"{DATADIR}/party2socialfeats.pkl\", \"wb\"))"
   ]
  },
  {
   "cell_type": "code",
   "execution_count": 6,
   "metadata": {},
   "outputs": [],
   "source": [
    "# load client data\n",
    "party2socialfeats = pickle.load(open(f\"{DATADIR}/party2socialfeats.pkl\", 'rb'))"
   ]
  },
  {
   "cell_type": "markdown",
   "metadata": {
    "colab_type": "text",
    "id": "FtLQTSfDCfNL"
   },
   "source": [
    "## PyTorch dataset"
   ]
  },
  {
   "cell_type": "code",
   "execution_count": 7,
   "metadata": {
    "colab": {
     "base_uri": "https://localhost:8080/",
     "height": 34
    },
    "colab_type": "code",
    "id": "uf2Pmq0FCfNM",
    "outputId": "15431c89-e221-449a-d864-6aa348921ca7"
   },
   "outputs": [
    {
     "name": "stdout",
     "output_type": "stream",
     "text": [
      "Train: 40000 Val: 10000\n"
     ]
    }
   ],
   "source": [
    "from sklearn.model_selection import train_test_split\n",
    "\n",
    "train_party, valid_party = train_test_split(\n",
    "    pd.read_csv(transactions_path, usecols=['party_rk']).party_rk.unique(), \n",
    "    train_size=0.8, random_state=42\n",
    ")\n",
    "\n",
    "print(f'Train: {len(train_party)} Val: {len(valid_party)}')"
   ]
  },
  {
   "cell_type": "code",
   "execution_count": 8,
   "metadata": {
    "colab": {},
    "colab_type": "code",
    "id": "CGZuEgEoCfNO",
    "scrolled": true
   },
   "outputs": [],
   "source": [
    "predict_period_len = 60  # -- days\n",
    "train_predict_dates = (\n",
    "    pd.date_range(\"2019-03-01\", \"2019-10-31\", freq=\"MS\")\n",
    "    .strftime(\"%Y-%m-%d\")\n",
    "    .tolist()\n",
    ")\n",
    "valid_predict_dates = (\n",
    "    pd.date_range(\"2019-11-01\", \"2019-12-31\", freq=\"MS\")\n",
    "    .strftime(\"%Y-%m-%d\")\n",
    "    .tolist()\n",
    ")\n",
    "submission_predict_dates = (\n",
    "    pd.date_range(\"2020-01-01\", \"2020-02-28\", freq=\"2MS\")\n",
    "    .strftime(\"%Y-%m-%d\")\n",
    "    .tolist()\n",
    ")"
   ]
  },
  {
   "cell_type": "code",
   "execution_count": 9,
   "metadata": {},
   "outputs": [
    {
     "data": {
      "text/plain": [
       "(['2019-03-01',\n",
       "  '2019-04-01',\n",
       "  '2019-05-01',\n",
       "  '2019-06-01',\n",
       "  '2019-07-01',\n",
       "  '2019-08-01',\n",
       "  '2019-09-01',\n",
       "  '2019-10-01'],\n",
       " ['2019-11-01', '2019-12-01'],\n",
       " ['2020-01-01'])"
      ]
     },
     "execution_count": 9,
     "metadata": {},
     "output_type": "execute_result"
    }
   ],
   "source": [
    "train_predict_dates, valid_predict_dates, submission_predict_dates"
   ]
  },
  {
   "cell_type": "code",
   "execution_count": 10,
   "metadata": {
    "colab": {},
    "colab_type": "code",
    "id": "Z6rAD6SdCfNR"
   },
   "outputs": [],
   "source": [
    "def prepare_data(party_list, mode=\"train\"):\n",
    "    \"\"\"\n",
    "    This function define the pipeline of the creation of train and valid samples.\n",
    "    We consider each client from party_list. For each client take each \n",
    "    predict_period_start from predict_dates list. All client transaction before\n",
    "    this date is our features. Next, we look at the customer's transactions in \n",
    "    the next two months. This transactions should be predicted. It will form \n",
    "    our labels vector.\n",
    "    \"\"\"\n",
    "\n",
    "    data_sum = []\n",
    "    data_trans_type = []\n",
    "    data_merchant_type = []\n",
    "    data_labels = []\n",
    "    data_social_info = []\n",
    "\n",
    "    for party_rk in tqdm(party_list):\n",
    "        date_series = party2dates[party_rk]\n",
    "        sum_series = party2sum[party_rk]\n",
    "        merch_type_series = party2merchant_type[party_rk]\n",
    "        trans_type_series = party2trans_type[party_rk]\n",
    "        \n",
    "        social_info = party2socialfeats[party_rk]\n",
    "\n",
    "        if mode == \"train\":\n",
    "            predict_dates = train_predict_dates\n",
    "        elif mode == \"valid\":\n",
    "            predict_dates = valid_predict_dates\n",
    "        elif mode == \"submission\":\n",
    "            predict_dates = submission_predict_dates\n",
    "        else:\n",
    "            raise Exception(\"Unknown mode\")\n",
    "\n",
    "        for predict_period_start in predict_dates:\n",
    "\n",
    "            predict_period_end = datetime.strftime(\n",
    "                datetime.strptime(predict_period_start, \"%Y-%m-%d\")\n",
    "                + timedelta(days=predict_period_len),\n",
    "                \"%Y-%m-%d\",\n",
    "            )\n",
    "\n",
    "            l, r = (\n",
    "                bisect_left(date_series, predict_period_start),\n",
    "                bisect_right(date_series, predict_period_end),\n",
    "            )\n",
    "\n",
    "            history_merch_type = merch_type_series[:l]\n",
    "            history_sum = sum_series[:l]\n",
    "            history_trans_type = trans_type_series[:l]\n",
    "            predict_merch = merch_type_series[l:r]\n",
    "\n",
    "            if predict_merch and l or mode not in (\"train\", \"valid\"):\n",
    "                data_sum.append(history_sum)\n",
    "                data_trans_type.append(history_trans_type)\n",
    "                data_merchant_type.append(history_merch_type)\n",
    "                data_labels.append(predict_merch)\n",
    "                data_social_info.append(social_info)\n",
    "\n",
    "    return data_sum, data_trans_type, data_merchant_type, data_social_info, data_labels"
   ]
  },
  {
   "cell_type": "code",
   "execution_count": 11,
   "metadata": {
    "colab": {
     "base_uri": "https://localhost:8080/",
     "height": 51
    },
    "colab_type": "code",
    "id": "zZzpIPNNCfNT",
    "outputId": "d5ffbefb-272d-4ca1-f933-3a0ec422f5a9"
   },
   "outputs": [
    {
     "name": "stderr",
     "output_type": "stream",
     "text": [
      "100%|██████████| 40000/40000 [00:12<00:00, 3223.17it/s]\n",
      "100%|██████████| 10000/10000 [00:00<00:00, 15387.59it/s]\n"
     ]
    }
   ],
   "source": [
    "train_sum, train_trans_type, train_merchant_type, train_social_info, train_labels = prepare_data(\n",
    "    train_party, mode=\"train\"\n",
    ")\n",
    "valid_sum, valid_trans_type, valid_merchant_type, valid_social_info, valid_labels = prepare_data(\n",
    "    valid_party, mode=\"valid\"\n",
    ")"
   ]
  },
  {
   "cell_type": "code",
   "execution_count": 12,
   "metadata": {},
   "outputs": [
    {
     "data": {
      "text/plain": [
       "(243346, 243346, 243346, 243346)"
      ]
     },
     "execution_count": 12,
     "metadata": {},
     "output_type": "execute_result"
    }
   ],
   "source": [
    "len(train_sum), len(train_trans_type), len(train_merchant_type), len(train_labels)"
   ]
  },
  {
   "cell_type": "markdown",
   "metadata": {
    "colab_type": "text",
    "id": "i-xdScilCfNW"
   },
   "source": [
    "## PyTorch loaders"
   ]
  },
  {
   "cell_type": "code",
   "execution_count": 13,
   "metadata": {},
   "outputs": [
    {
     "data": {
      "image/png": "[encoded data removed]",
      "text/plain": [
       "<Figure size 432x288 with 1 Axes>"
      ]
     },
     "metadata": {
      "needs_background": "light"
     },
     "output_type": "display_data"
    }
   ],
   "source": [
    "import matplotlib.pyplot as plt\n",
    "\n",
    "lengths = []\n",
    "for user_sum in train_sum:\n",
    "    lengths += [np.sum(user_sum)]\n",
    "\n",
    "_ = plt.hist(lengths, bins=100)\n",
    "plt.xscale('log')"
   ]
  },
  {
   "cell_type": "code",
   "execution_count": 14,
   "metadata": {},
   "outputs": [
    {
     "data": {
      "text/plain": [
       "((192,), (243346,))"
      ]
     },
     "execution_count": 14,
     "metadata": {},
     "output_type": "execute_result"
    }
   ],
   "source": [
    "lengths = np.array(lengths)\n",
    "\n",
    "lengths[lengths > 1e7].shape, lengths.shape\n"
   ]
  },
  {
   "cell_type": "code",
   "execution_count": 15,
   "metadata": {},
   "outputs": [
    {
     "data": {
      "text/plain": [
       "array([ 70986.  , 178746.  , 375351.16, ..., 120583.96, 131183.96,\n",
       "       131512.26])"
      ]
     },
     "execution_count": 15,
     "metadata": {},
     "output_type": "execute_result"
    }
   ],
   "source": [
    "lengths"
   ]
  },
  {
   "cell_type": "code",
   "execution_count": 17,
   "metadata": {
    "colab": {},
    "colab_type": "code",
    "id": "0gUqipggCfNX"
   },
   "outputs": [],
   "source": [
    "import torch\n",
    "from torch.utils.data import Dataset, DataLoader"
   ]
  },
  {
   "cell_type": "code",
   "execution_count": 18,
   "metadata": {
    "colab": {},
    "colab_type": "code",
    "id": "Ex8SKiPqCfNZ"
   },
   "outputs": [],
   "source": [
    "MERCH_TYPE_NCLASSES = len(mappings['merchant_type'])\n",
    "TRANS_TYPE_NCLASSES = len(mappings['transaction_type_desc'])\n",
    "PADDING_LEN = 300"
   ]
  },
  {
   "cell_type": "code",
   "execution_count": 24,
   "metadata": {
    "colab": {},
    "colab_type": "code",
    "id": "wjllhPWGCfNb"
   },
   "outputs": [],
   "source": [
    "class RSDataset(Dataset):\n",
    "    def __init__(self, data_sum, data_trans_type, data_merchant_type, data_social_info, labels):\n",
    "        super(RSDataset, self).__init__()\n",
    "        self.data_sum = data_sum\n",
    "        self.data_trans_type = data_trans_type\n",
    "        self.data_merchant_type = data_merchant_type\n",
    "        self.data_social_info = data_social_info\n",
    "        self.labels = labels\n",
    "\n",
    "    def __len__(self):\n",
    "        return len(self.data_sum)\n",
    "\n",
    "    def __getitem__(self, idx):\n",
    "        targets = np.zeros((MERCH_TYPE_NCLASSES - 1,), dtype=np.float32)\n",
    "        for m in self.labels[idx]:\n",
    "            if m:  # skip UNK, UNK-token should not be predicted\n",
    "                targets[m - 1] = 1.0\n",
    "\n",
    "        item = {\n",
    "            \"features\": {},\n",
    "            \"targets\": targets,\n",
    "        }\n",
    "\n",
    "        sum_feature = np.array(self.data_sum[idx][-PADDING_LEN:])\n",
    "        sum_feature = np.vectorize(lambda s: np.log(1 + s))(sum_feature)\n",
    "        if sum_feature.shape[0] < PADDING_LEN:\n",
    "            pad = np.zeros(\n",
    "                (PADDING_LEN - sum_feature.shape[0],), dtype=np.float32\n",
    "            )\n",
    "            sum_feature = np.hstack((sum_feature, pad))\n",
    "        item[\"features\"][\"sum\"] = torch.from_numpy(sum_feature).float()\n",
    "        item[\"features\"][\"social_info\"] = torch.from_numpy(np.array(self.data_social_info)[idx]).long()\n",
    "        \n",
    "        for feature_name, feature_values in zip(\n",
    "            [\"trans_type\", \"merchant_type\"],\n",
    "            [self.data_trans_type[idx], self.data_merchant_type[idx]],\n",
    "        ):\n",
    "\n",
    "            feature_values = np.array(feature_values[-PADDING_LEN:])\n",
    "            mask = np.ones(feature_values.shape[0], dtype=np.float32)\n",
    "            if feature_values.shape[0] < PADDING_LEN:\n",
    "                feature_values = np.append(\n",
    "                    feature_values,\n",
    "                    np.zeros(\n",
    "                        PADDING_LEN - feature_values.shape[0], dtype=np.int64\n",
    "                    ),\n",
    "                )\n",
    "                mask = np.append(\n",
    "                    mask,\n",
    "                    np.zeros(PADDING_LEN - mask.shape[0], dtype=np.float32),\n",
    "                )\n",
    "            item[\"features\"][feature_name] = torch.from_numpy(feature_values).long()\n",
    "            item[\"features\"][f\"{feature_name}_mask\"] = torch.from_numpy(mask).float()\n",
    "                \n",
    "\n",
    "        return item"
   ]
  },
  {
   "cell_type": "code",
   "execution_count": 25,
   "metadata": {
    "colab": {},
    "colab_type": "code",
    "id": "D3-aV7lJCfNd"
   },
   "outputs": [],
   "source": [
    "train_dataset = RSDataset(\n",
    "    train_sum, train_trans_type, train_merchant_type, train_social_info, train_labels\n",
    ")\n",
    "valid_dataset = RSDataset(\n",
    "    valid_sum, valid_trans_type, valid_merchant_type, valid_social_info, valid_labels\n",
    ")\n"
   ]
  },
  {
   "cell_type": "code",
   "execution_count": 26,
   "metadata": {},
   "outputs": [],
   "source": [
    "train_loader = DataLoader(\n",
    "    train_dataset, batch_size=64, shuffle=True, num_workers=2\n",
    ")\n",
    "valid_loader = DataLoader(\n",
    "    valid_dataset, batch_size=64, shuffle=False, num_workers=2\n",
    ")"
   ]
  },
  {
   "cell_type": "code",
   "execution_count": 28,
   "metadata": {
    "colab": {},
    "colab_type": "code",
    "id": "SGRUJWR3CfNi",
    "scrolled": false
   },
   "outputs": [
    {
     "name": "stderr",
     "output_type": "stream",
     "text": [
      "  0%|          | 0/3803 [00:39<?, ?it/s]"
     ]
    },
    {
     "name": "stdout",
     "output_type": "stream",
     "text": [
      "dict_keys(['sum', 'social_info', 'trans_type', 'trans_type_mask', 'merchant_type', 'merchant_type_mask'])\n",
      "torch.Size([64, 300])\n",
      "tensor([[6.8658, 5.4889, 5.5683,  ..., 0.0000, 0.0000, 0.0000],\n",
      "        [9.2687, 6.5058, 5.5683,  ..., 0.0000, 0.0000, 0.0000],\n",
      "        [8.9360, 7.7940, 6.4865,  ..., 0.0000, 0.0000, 0.0000],\n",
      "        ...,\n",
      "        [8.0944, 6.9344, 7.9241,  ..., 0.0000, 0.0000, 0.0000],\n",
      "        [7.6620, 7.6643, 4.0690,  ..., 0.0000, 0.0000, 0.0000],\n",
      "        [8.1014, 6.0331, 3.0445,  ..., 0.0000, 0.0000, 0.0000]])\n",
      "tensor([[1, 1, 1,  ..., 0, 0, 0],\n",
      "        [3, 3, 2,  ..., 0, 0, 0],\n",
      "        [4, 3, 1,  ..., 0, 0, 0],\n",
      "        ...,\n",
      "        [1, 3, 3,  ..., 0, 0, 0],\n",
      "        [3, 3, 1,  ..., 0, 0, 0],\n",
      "        [3, 3, 3,  ..., 0, 0, 0]])\n",
      "torch.Size([64, 457])\n",
      "tensor([[0., 1., 1.,  ..., 0., 0., 0.],\n",
      "        [0., 0., 1.,  ..., 0., 0., 0.],\n",
      "        [0., 1., 0.,  ..., 0., 0., 0.],\n",
      "        ...,\n",
      "        [0., 1., 1.,  ..., 0., 0., 0.],\n",
      "        [0., 0., 1.,  ..., 0., 0., 0.],\n",
      "        [0., 1., 0.,  ..., 0., 0., 0.]])\n",
      "tensor([1, 1, 1, 1, 1, 1, 1, 1, 1, 3, 1, 1, 1, 1, 1, 1, 1, 1, 1, 1, 3, 1, 3, 1,\n",
      "        1, 1, 1, 1, 1, 3, 1, 1, 1, 1, 1, 1, 3, 1, 3, 1, 1, 1, 1, 1, 2, 1, 1, 2,\n",
      "        1, 2, 1, 1, 1, 1, 1, 1, 1, 1, 1, 1, 3, 1, 1, 1, 1, 1, 1, 1, 1, 1, 1, 1,\n",
      "        1, 1, 1, 1, 1, 1, 1, 4, 1, 3, 1, 1, 1, 1, 1, 3, 1, 1, 1, 1, 1, 1, 2, 1,\n",
      "        1, 1, 1, 3, 1, 3, 1, 1, 1, 1, 1, 3, 1, 2, 1, 1, 1, 1, 1, 1, 1, 3, 1, 1,\n",
      "        1, 1, 1, 1, 1, 1, 1, 1, 1, 1, 1, 1, 1, 1, 1, 1, 1, 1, 3, 1, 1, 1, 1, 1,\n",
      "        1, 1, 1, 1, 1, 1, 1, 1, 3, 1, 1, 1, 1, 1, 1, 1, 1, 1, 1, 1, 1, 1, 1, 1,\n",
      "        1, 1, 1, 1, 3, 1, 1, 1, 1, 1, 1, 1, 1, 1, 1, 1, 1, 1, 1, 1, 1, 1, 1, 1,\n",
      "        1, 1, 3, 1, 1, 3, 3, 1, 1, 3, 1, 1, 1, 1, 1, 1, 2, 1, 1, 1, 1, 1, 1, 1,\n",
      "        3, 2, 1, 1, 1, 1, 1, 1, 1, 1, 1, 1, 1, 1, 1, 1, 1, 0, 0, 0, 0, 0, 0, 0,\n",
      "        0, 0, 0, 0, 0, 0, 0, 0, 0, 0, 0, 0, 0, 0, 0, 0, 0, 0, 0, 0, 0, 0, 0, 0,\n",
      "        0, 0, 0, 0, 0, 0, 0, 0, 0, 0, 0, 0, 0, 0, 0, 0, 0, 0, 0, 0, 0, 0, 0, 0,\n",
      "        0, 0, 0, 0, 0, 0, 0, 0, 0, 0, 0, 0]) tensor([1., 1., 1., 1., 1., 1., 1., 1., 1., 1., 1., 1., 1., 1., 1., 1., 1., 1.,\n",
      "        1., 1., 1., 1., 1., 1., 1., 1., 1., 1., 1., 1., 1., 1., 1., 1., 1., 1.,\n",
      "        1., 1., 1., 1., 1., 1., 1., 1., 1., 1., 1., 1., 1., 1., 1., 1., 1., 1.,\n",
      "        1., 1., 1., 1., 1., 1., 1., 1., 1., 1., 1., 1., 1., 1., 1., 1., 1., 1.,\n",
      "        1., 1., 1., 1., 1., 1., 1., 1., 1., 1., 1., 1., 1., 1., 1., 1., 1., 1.,\n",
      "        1., 1., 1., 1., 1., 1., 1., 1., 1., 1., 1., 1., 1., 1., 1., 1., 1., 1.,\n",
      "        1., 1., 1., 1., 1., 1., 1., 1., 1., 1., 1., 1., 1., 1., 1., 1., 1., 1.,\n",
      "        1., 1., 1., 1., 1., 1., 1., 1., 1., 1., 1., 1., 1., 1., 1., 1., 1., 1.,\n",
      "        1., 1., 1., 1., 1., 1., 1., 1., 1., 1., 1., 1., 1., 1., 1., 1., 1., 1.,\n",
      "        1., 1., 1., 1., 1., 1., 1., 1., 1., 1., 1., 1., 1., 1., 1., 1., 1., 1.,\n",
      "        1., 1., 1., 1., 1., 1., 1., 1., 1., 1., 1., 1., 1., 1., 1., 1., 1., 1.,\n",
      "        1., 1., 1., 1., 1., 1., 1., 1., 1., 1., 1., 1., 1., 1., 1., 1., 1., 1.,\n",
      "        1., 1., 1., 1., 1., 1., 1., 1., 1., 1., 1., 1., 1., 1., 1., 1., 1., 0.,\n",
      "        0., 0., 0., 0., 0., 0., 0., 0., 0., 0., 0., 0., 0., 0., 0., 0., 0., 0.,\n",
      "        0., 0., 0., 0., 0., 0., 0., 0., 0., 0., 0., 0., 0., 0., 0., 0., 0., 0.,\n",
      "        0., 0., 0., 0., 0., 0., 0., 0., 0., 0., 0., 0., 0., 0., 0., 0., 0., 0.,\n",
      "        0., 0., 0., 0., 0., 0., 0., 0., 0., 0., 0., 0.])\n",
      "tensor([ 1, 30,  2,  0,  0])\n"
     ]
    },
    {
     "name": "stderr",
     "output_type": "stream",
     "text": [
      "\n"
     ]
    }
   ],
   "source": [
    "# sanity check\n",
    "for i in tqdm(range(len(train_loader))):\n",
    "    batch = next(iter(train_loader))\n",
    "    print(batch['features'].keys())\n",
    "    print(batch['features']['merchant_type'].shape)\n",
    "    print(batch['features']['sum'])\n",
    "    print(batch['features']['trans_type'])\n",
    "    print(batch['targets'].shape)\n",
    "    print(batch['targets'])\n",
    "    print(batch['features']['trans_type'][0], batch['features']['trans_type_mask'][0])\n",
    "    print(batch['features']['social_info'][0])\n",
    "    break"
   ]
  },
  {
   "cell_type": "code",
   "execution_count": 38,
   "metadata": {},
   "outputs": [
    {
     "data": {
      "text/plain": [
       "torch.Size([64, 5])"
      ]
     },
     "execution_count": 38,
     "metadata": {},
     "output_type": "execute_result"
    }
   ],
   "source": [
    "batch['features']['social_info'].shape"
   ]
  },
  {
   "cell_type": "code",
   "execution_count": 43,
   "metadata": {},
   "outputs": [
    {
     "data": {
      "text/plain": [
       "array([[ 1, 30,  2,  0,  0],\n",
       "       [ 1, 35,  2,  0,  0],\n",
       "       [ 0, 60,  1,  1,  0],\n",
       "       ...,\n",
       "       [ 0, 30,  2,  0,  0],\n",
       "       [ 1, 30,  3,  0,  0],\n",
       "       [ 1, 40,  5,  0,  0]])"
      ]
     },
     "execution_count": 43,
     "metadata": {},
     "output_type": "execute_result"
    }
   ],
   "source": [
    "np.tile(batch['features']['social_info'],(300,1)).reshape(64, 300, 5)[0]"
   ]
  },
  {
   "cell_type": "code",
   "execution_count": 44,
   "metadata": {},
   "outputs": [
    {
     "data": {
      "text/plain": [
       "tensor([ 1, 30,  2,  0,  0])"
      ]
     },
     "execution_count": 44,
     "metadata": {},
     "output_type": "execute_result"
    }
   ],
   "source": [
    "batch['features']['social_info'][0]"
   ]
  },
  {
   "cell_type": "markdown",
   "metadata": {
    "colab_type": "text",
    "id": "J67Ms2_jCfNk"
   },
   "source": [
    "## Model"
   ]
  },
  {
   "cell_type": "markdown",
   "metadata": {
    "colab_type": "text",
    "id": "RwwVKAh3AUx8"
   },
   "source": [
    "This is the baseline model for predicting purchases in `merchant_type` in the next 2 months"
   ]
  },
  {
   "cell_type": "code",
   "execution_count": 32,
   "metadata": {
    "colab": {},
    "colab_type": "code",
    "id": "2kWquDGFCfNl"
   },
   "outputs": [],
   "source": [
    "import torch.nn as nn\n",
    "from collections import OrderedDict"
   ]
  },
  {
   "cell_type": "code",
   "execution_count": 33,
   "metadata": {
    "colab": {},
    "colab_type": "code",
    "id": "C-PAEoqoCfNo"
   },
   "outputs": [],
   "source": [
    "params = {\n",
    "    'merchant_type_emb_dim': 64,\n",
    "    'trans_type_embedding': 3,\n",
    "    'transformer_nhead': 4,\n",
    "    'transformer_dim_feedforward': 256,\n",
    "    'transformer_dropout': 0.2,\n",
    "    'dense_unit': 256,\n",
    "    'num_layers': 4,\n",
    "}"
   ]
  },
  {
   "cell_type": "code",
   "execution_count": 34,
   "metadata": {},
   "outputs": [],
   "source": [
    "SOCIAL_NCLASSES = np.array(train_social_info).shape[1]"
   ]
  },
  {
   "cell_type": "code",
   "execution_count": 35,
   "metadata": {
    "colab": {
     "base_uri": "https://localhost:8080/",
     "height": 34
    },
    "colab_type": "code",
    "id": "NeAfj7h_CfNq",
    "outputId": "99271840-d606-4a6b-d976-a57c57663c0d"
   },
   "outputs": [
    {
     "data": {
      "text/plain": [
       "(458, 5, 5)"
      ]
     },
     "execution_count": 35,
     "metadata": {},
     "output_type": "execute_result"
    }
   ],
   "source": [
    "MERCH_TYPE_NCLASSES, TRANS_TYPE_NCLASSES, SOCIAL_NCLASSES"
   ]
  },
  {
   "cell_type": "code",
   "execution_count": 36,
   "metadata": {},
   "outputs": [],
   "source": [
    "from torch.nn.modules.normalization import LayerNorm"
   ]
  },
  {
   "cell_type": "code",
   "execution_count": 37,
   "metadata": {
    "colab": {},
    "colab_type": "code",
    "id": "oDhr4svJCfNs"
   },
   "outputs": [],
   "source": [
    "class Model(nn.Module):\n",
    "    def __init__(self):\n",
    "        super().__init__()\n",
    "\n",
    "        self.merchant_type_embedding = nn.Embedding(\n",
    "            MERCH_TYPE_NCLASSES, params[\"merchant_type_emb_dim\"]\n",
    "        )\n",
    "        self.trans_type_embedding = nn.Embedding(\n",
    "            TRANS_TYPE_NCLASSES, params[\"trans_type_embedding\"]\n",
    "        )\n",
    "\n",
    "        embedding_size = (\n",
    "            params[\"merchant_type_emb_dim\"]\n",
    "            + params[\"trans_type_embedding\"]\n",
    "            + 1 + SOCIAL_NCLASSES\n",
    "        )\n",
    "        \n",
    "        transformer_block = nn.TransformerEncoderLayer(d_model=embedding_size,\n",
    "                                                        nhead=params[\"transformer_nhead\"],\n",
    "                                                        dim_feedforward=params[\"transformer_dim_feedforward\"],\n",
    "                                                        dropout=params[\"transformer_dropout\"])\n",
    "        self.transformer_encoder = nn.TransformerEncoder(transformer_block, \n",
    "                                                         params[\"num_layers\"], \n",
    "                                                         LayerNorm(embedding_size))\n",
    "\n",
    "        self.linear = nn.Linear(\n",
    "            in_features=embedding_size, out_features=params[\"dense_unit\"]\n",
    "        )\n",
    "        self.scorer = nn.Linear(\n",
    "            in_features=params[\"dense_unit\"],\n",
    "            out_features=MERCH_TYPE_NCLASSES - 1,\n",
    "        )\n",
    "\n",
    "    def forward(self, features):\n",
    "\n",
    "        merchant_type_emb = self.merchant_type_embedding(features[\"merchant_type\"])\n",
    "        trans_type_emb = self.trans_type_embedding(features[\"trans_type\"])\n",
    "\n",
    "        merchant_type_emb = merchant_type_emb * features[\"merchant_type_mask\"].unsqueeze(-1)\n",
    "        trans_type_emb = trans_type_emb * features[\"trans_type_mask\"].unsqueeze(-1)\n",
    "\n",
    "        embeddings = torch.cat(\n",
    "            (merchant_type_emb, trans_type_emb, features[\"sum\"].unsqueeze(-1)),\n",
    "            dim=-1,\n",
    "        )\n",
    "\n",
    "        transformer_output = self.transformer_encoder(embeddings)\n",
    "        pooling = torch.mean(transformer_output, dim=1)\n",
    "        linear = torch.tanh(self.linear(pooling))\n",
    "        merch_logits = self.scorer(linear)\n",
    "\n",
    "        return merch_logits"
   ]
  },
  {
   "cell_type": "markdown",
   "metadata": {
    "colab_type": "text",
    "id": "NszoLAhbCfNu"
   },
   "source": [
    "### One-batch-check"
   ]
  },
  {
   "cell_type": "code",
   "execution_count": 38,
   "metadata": {
    "colab": {
     "base_uri": "https://localhost:8080/",
     "height": 34
    },
    "colab_type": "code",
    "id": "PVdmq86KCfNu",
    "outputId": "a98d1094-7aaf-46ca-a49d-b731fe8a8127"
   },
   "outputs": [
    {
     "name": "stdout",
     "output_type": "stream",
     "text": [
      "torch.Size([64, 300, 64]) torch.Size([64, 300, 3]) torch.Size([64, 300, 1])\n",
      "tensor(0.6986, grad_fn=<BinaryCrossEntropyWithLogitsBackward>)\n"
     ]
    }
   ],
   "source": [
    "model = Model()\n",
    "criterion = nn.BCEWithLogitsLoss()\n",
    "batch = next(iter(train_loader))\n",
    "output = model(batch['features'])\n",
    "loss = criterion(output, batch['targets'])\n",
    "print(loss)"
   ]
  },
  {
   "cell_type": "markdown",
   "metadata": {
    "colab_type": "text",
    "id": "DZz71tEDCfNw"
   },
   "source": [
    "## Train loop with [Catalyst](https://github.com/catalyst-team/catalyst)\n",
    "\n",
    "[A comprehensive step-by-step guide to basic and advanced features](https://github.com/catalyst-team/catalyst#step-by-step-guide).\n",
    "\n",
    "---\n",
    "\n"
   ]
  },
  {
   "cell_type": "code",
   "execution_count": 103,
   "metadata": {
    "colab": {},
    "colab_type": "code",
    "id": "DcF4frWZCfNx"
   },
   "outputs": [],
   "source": [
    "from catalyst import dl, utils\n",
    "from catalyst.utils import metrics"
   ]
  },
  {
   "cell_type": "markdown",
   "metadata": {
    "colab_type": "text",
    "id": "Q6EBSFvEwpQl"
   },
   "source": [
    "## Custom metrics for this hackathon"
   ]
  },
  {
   "cell_type": "code",
   "execution_count": 104,
   "metadata": {
    "colab": {},
    "colab_type": "code",
    "id": "1OhGkjT0CfNz"
   },
   "outputs": [],
   "source": [
    "from typing import List, Optional, Sequence, Tuple, Union\n",
    "\n",
    "import numpy as np\n",
    "import torch\n",
    "from catalyst.utils.metrics.functional import preprocess_multi_label_metrics\n",
    "from catalyst.utils.torch import get_activation_fn\n",
    "\n",
    "\n",
    "def multi_label_metrics(\n",
    "    outputs: torch.Tensor,\n",
    "    targets: torch.Tensor,\n",
    "    threshold: Union[float, torch.Tensor],\n",
    "    activation: Optional[str] = None,\n",
    "    eps: float = 1e-7,\n",
    ") -> Tuple[torch.Tensor, torch.Tensor, torch.Tensor, torch.Tensor]:\n",
    "    \"\"\"\n",
    "    Computes multi-label precision for the specified activation and threshold.\n",
    "\n",
    "    Args:\n",
    "        outputs (torch.Tensor): NxK tensor that for each of the N examples\n",
    "            indicates the probability of the example belonging to each of\n",
    "            the K classes, according to the model.\n",
    "        targets (torch.Tensor): binary NxK tensort that encodes which of the K\n",
    "            classes are associated with the N-th input\n",
    "            (eg: a row [0, 1, 0, 1] indicates that the example is\n",
    "            associated with classes 2 and 4)\n",
    "        threshold (float): threshold for for model output\n",
    "        activation (str): activation to use for model output\n",
    "        eps (float): epsilon to avoid zero division\n",
    "    \n",
    "    Extended version of \n",
    "        https://github.com/catalyst-team/catalyst/blob/master/catalyst/utils/metrics/accuracy.py#L58\n",
    "\n",
    "    Returns:\n",
    "        computed multi-label metrics\n",
    "    \"\"\"\n",
    "    outputs, targets, _ = preprocess_multi_label_metrics(\n",
    "        outputs=outputs, targets=targets\n",
    "    )\n",
    "    activation_fn = get_activation_fn(activation)\n",
    "    outputs = activation_fn(outputs)\n",
    "\n",
    "    outputs = (outputs > threshold).long()\n",
    "\n",
    "    accuracy = (targets.long() == outputs.long()).sum().float() / np.prod(\n",
    "        targets.shape\n",
    "    )\n",
    "\n",
    "    intersection = (outputs.long() * targets.long()).sum(axis=1).float()\n",
    "    num_predicted = outputs.long().sum(axis=1).float()\n",
    "    num_relevant = targets.long().sum(axis=1).float()\n",
    "    union = num_predicted + num_relevant\n",
    "\n",
    "    # Precision = ({predicted items} && {relevant items}) / {predicted items}\n",
    "    precision = intersection / (num_predicted + eps * (num_predicted == 0))\n",
    "    # Recall = ({predicted items} && {relevant items}) / {relevant items}\n",
    "    recall = intersection / (num_relevant + eps * (num_relevant == 0))\n",
    "    # IoU = ({predicted items} && {relevant items}) / ({predicted items} || {relevant items})\n",
    "    iou = (intersection + eps * (union == 0)) / (union - intersection + eps)\n",
    "\n",
    "    return accuracy, precision.mean(), recall.mean(), iou.mean()\n",
    "\n",
    "\n",
    "def precision_at_k(\n",
    "    actual: torch.Tensor, \n",
    "    predicted: torch.Tensor, \n",
    "    k: int,\n",
    "):\n",
    "    \"\"\"\n",
    "    Computes precision at cutoff k for one sample\n",
    "\n",
    "    Args:\n",
    "       actual: (torch.Tensor): tensor of length K with predicted item_ids sorted by relevance\n",
    "       predicted (torch.Tensor): binary tensor that encodes which of the K\n",
    "           classes are associated with the N-th input\n",
    "           (eg: a row [0, 1, 0, 1] indicates that the example is\n",
    "           associated with classes 2 and 4)\n",
    "       k (int): parameter k of precison@k\n",
    "\n",
    "    Returns:\n",
    "       Computed value of precision@k for given sample\n",
    "    \"\"\"\n",
    "    p_at_k = 0.0\n",
    "    for item in predicted[:k]:\n",
    "        if actual[item]:\n",
    "            p_at_k += 1\n",
    "    p_at_k /= k\n",
    "\n",
    "    return p_at_k\n",
    "\n",
    "\n",
    "def average_precision_at_k(\n",
    "    actual: torch.Tensor, \n",
    "    predicted: torch.Tensor, \n",
    "    k: int,\n",
    ") -> float:\n",
    "    \"\"\"\n",
    "    Computes average precision at cutoff k for one sample\n",
    "\n",
    "    Args:\n",
    "      actual: (torch.Tensor): tensor of length K with predicted item_ids sorted by relevance\n",
    "      predicted (torch.Tensor): binary tensor that encodes which of the K\n",
    "          classes are associated with the N-th input\n",
    "          (eg: a row [0, 1, 0, 1] indicates that the example is\n",
    "          associated with classes 2 and 4)\n",
    "      k (int): parameter k of AP@k\n",
    "\n",
    "    Returns:\n",
    "        Computed value of AP@k for given sample\n",
    "    \"\"\"\n",
    "    ap_at_k = 0.0\n",
    "    for idx, item in enumerate(predicted[:k]):\n",
    "        if actual[item]:\n",
    "            ap_at_k += precision_at_k(actual, predicted, k=idx + 1)\n",
    "    ap_at_k /= min(k, actual.sum().cpu().numpy())\n",
    "    \n",
    "\n",
    "    return ap_at_k\n",
    "\n",
    "\n",
    "def mean_average_precision_at_k(\n",
    "    output: torch.Tensor, target: torch.Tensor, top_k: Tuple[int, ...] = (1,)\n",
    ") -> List[float]:\n",
    "    \"\"\"\n",
    "    Computes mean_average_precision_at_k at set of cutoff parameters K\n",
    "\n",
    "    Args:\n",
    "       outputs (torch.Tensor): NxK tensor that for each of the N examples\n",
    "           indicates the probability of the example belonging to each of\n",
    "           the K classes, according to the model.\n",
    "       targets (torch.Tensor): binary NxK tensort that encodes which of the K\n",
    "           classes are associated with the N-th input\n",
    "           (eg: a row [0, 1, 0, 1] indicates that the example is\n",
    "           associated with classes 2 and 4)\n",
    "       top_k (tuple): list of parameters k at which map@k will be computed\n",
    "\n",
    "\n",
    "    Returns:\n",
    "       List of computed values of map@k at each cutoff k from topk\n",
    "    \"\"\"\n",
    "    max_k = max(top_k)\n",
    "    batch_size = target.size(0)\n",
    "\n",
    "    _, top_indices = output.topk(k=max_k, dim=1, largest=True, sorted=True)\n",
    "\n",
    "    result = []\n",
    "    for k in top_k:  # loop over k\n",
    "        map_at_k = 0.0\n",
    "        for actual_target, predicted_items in zip(\n",
    "            target, top_indices\n",
    "        ):  # loop over samples\n",
    "            map_at_k += average_precision_at_k(\n",
    "                actual_target, predicted_items, k\n",
    "            )\n",
    "        map_at_k = map_at_k / batch_size\n",
    "        result.append(map_at_k)\n",
    "\n",
    "    return result"
   ]
  },
  {
   "cell_type": "code",
   "execution_count": 105,
   "metadata": {
    "colab": {},
    "colab_type": "code",
    "id": "GygG0d1WCfN2"
   },
   "outputs": [],
   "source": [
    "# What is Runner?\n",
    "# https://catalyst-team.github.io/catalyst/api/core.html#runner\n",
    "class CustomRunner(dl.Runner):\n",
    "\n",
    "    def _handle_batch(self, batch):\n",
    "        # model train/valid step\n",
    "        features, targets = batch[\"features\"], batch[\"targets\"]\n",
    "        logits = self.model(features)\n",
    "        scores = torch.sigmoid(logits)\n",
    "\n",
    "        loss = self.criterion(logits, targets)\n",
    "        accuracy, precision, recall, iou = multi_label_metrics(\n",
    "            logits, targets, threshold=0.5, activation=\"Sigmoid\"\n",
    "        )\n",
    "        map05, map10, map20 = mean_average_precision_at_k(\n",
    "            scores, targets, top_k=(5, 10, 20)\n",
    "        )\n",
    "        batch_metrics = {\n",
    "            \"loss\": loss,\n",
    "            \"accuracy\": accuracy,\n",
    "            \"precision\": precision,\n",
    "            \"recall\": recall,\n",
    "            \"iou\": iou,\n",
    "            \"map05\": map05,\n",
    "            \"map10\": map10,\n",
    "            \"map20\": map20\n",
    "        }\n",
    "        \n",
    "        self.input = {\"features\": features, \"targets\": targets}\n",
    "        self.output = {\"logits\": logits, \"scores\": scores}\n",
    "        self.batch_metrics.update(batch_metrics)\n",
    "\n",
    "        if self.is_train_loader:\n",
    "            loss.backward()\n",
    "            self.optimizer.step()\n",
    "            self.optimizer.zero_grad()\n",
    "    \n",
    "    def predict_batch(self, batch):\n",
    "        # model inference step\n",
    "        batch = utils.maybe_recursive_call(batch, \"to\", device=self.device)\n",
    "        logits = self.model(batch[\"features\"])\n",
    "        scores = torch.sigmoid(logits)\n",
    "        return scores"
   ]
  },
  {
   "cell_type": "code",
   "execution_count": 106,
   "metadata": {
    "colab": {},
    "colab_type": "code",
    "id": "noTAPVPSCfN5"
   },
   "outputs": [],
   "source": [
    "model = Model()\n",
    "criterion = nn.BCEWithLogitsLoss()\n",
    "optimizer = torch.optim.Adam(model.parameters(), lr=0.001)\n",
    "\n",
    "loaders = {\"train\": train_loader, \"valid\": valid_loader}"
   ]
  },
  {
   "cell_type": "code",
   "execution_count": 107,
   "metadata": {
    "colab": {},
    "colab_type": "code",
    "id": "CH-bnRkkSRYA"
   },
   "outputs": [
    {
     "data": {
      "text/plain": [
       "Reusing TensorBoard on port 6006 (pid 501), started 1:55:12 ago. (Use '!kill 501' to kill it.)"
      ]
     },
     "metadata": {},
     "output_type": "display_data"
    },
    {
     "data": {
      "text/html": [
       "\n",
       "      <iframe id=\"tensorboard-frame-a3cade5d0bce7d23\" width=\"100%\" height=\"800\" frameborder=\"0\">\n",
       "      </iframe>\n",
       "      <script>\n",
       "        (function() {\n",
       "          const frame = document.getElementById(\"tensorboard-frame-a3cade5d0bce7d23\");\n",
       "          const url = new URL(\"/\", window.location);\n",
       "          const port = 6006;\n",
       "          if (port) {\n",
       "            url.port = port;\n",
       "          }\n",
       "          frame.src = url;\n",
       "        })();\n",
       "      </script>\n",
       "    "
      ],
      "text/plain": [
       "<IPython.core.display.HTML object>"
      ]
     },
     "metadata": {},
     "output_type": "display_data"
    }
   ],
   "source": [
    "%load_ext tensorboard\n",
    "%tensorboard --logdir ./logs"
   ]
  },
  {
   "cell_type": "code",
   "execution_count": null,
   "metadata": {
    "colab": {
     "base_uri": "https://localhost:8080/",
     "height": 955
    },
    "colab_type": "code",
    "id": "mhxJPaHTCfN6",
    "outputId": "f761ac29-ebf8-4292-e6ff-a1b99c524774"
   },
   "outputs": [
    {
     "name": "stdout",
     "output_type": "stream",
     "text": [
      "1/10 * Epoch (train):   9% 326/3803 [01:38<18:00,  3.22it/s, accuracy=0.976, iou=0.223, loss=0.070, map05=0.613, map10=0.515, map20=0.480, precision=0.664, recall=0.342]"
     ]
    }
   ],
   "source": [
    "# For other minimal examples, please follow the link below\n",
    "# https://github.com/catalyst-team/catalyst#minimal-examples\n",
    "runner = CustomRunner()\n",
    "# model training\n",
    "runner.train(\n",
    "    model=model,\n",
    "    criterion=criterion,\n",
    "    optimizer=optimizer,\n",
    "    scheduler=None,\n",
    "    loaders=loaders,\n",
    "    logdir=\"./logs\",\n",
    "    num_epochs=10,\n",
    "    verbose=True,\n",
    "    load_best_on_end=True,\n",
    "    overfit=False,  #  <<<--- DO NOT FORGET TO MAKE IT ``False`` \n",
    "                    #  (``True`` uses only one batch to check pipeline correctness)\n",
    "    callbacks=[\n",
    "        # https://scikit-learn.org/stable/modules/generated/sklearn.metrics.average_precision_score.html\n",
    "        # dl.AveragePrecisionCallback(input_key=\"targets\", output_key=\"scores\", prefix=\"ap\"),\n",
    "        # https://scikit-learn.org/stable/modules/generated/sklearn.metrics.roc_auc_score.html\n",
    "        # dl.AUCCallback(input_key=\"targets\", output_key=\"scores\", prefix=\"auc\"),\n",
    "    ],\n",
    "    main_metric=\"iou\", # \"ap/mean\", \n",
    "    minimize_metric=False,\n",
    ")"
   ]
  },
  {
   "cell_type": "code",
   "execution_count": null,
   "metadata": {
    "colab": {},
    "colab_type": "code",
    "id": "GQxuxPukCfN9"
   },
   "outputs": [],
   "source": [
    "# model inference example\n",
    "# for prediction in runner.predict_loader(loader=loaders[\"valid\"]):\n",
    "#     assert prediction.detach().cpu().numpy().shape[-1] == MERCH_TYPE_NCLASSES-1"
   ]
  },
  {
   "cell_type": "code",
   "execution_count": null,
   "metadata": {
    "colab": {},
    "colab_type": "code",
    "id": "IFV8lYM9CfN_",
    "scrolled": true
   },
   "outputs": [],
   "source": [
    "# import plotly  # required for contrib\n",
    "# from catalyst.contrib.utils import plot_tensorboard_log\n",
    "\n",
    "# plot_tensorboard_log(logdir=\"./logs\", step=\"batch\")"
   ]
  },
  {
   "cell_type": "code",
   "execution_count": null,
   "metadata": {
    "colab": {},
    "colab_type": "code",
    "id": "Bte9iiW0CfOB",
    "scrolled": false
   },
   "outputs": [],
   "source": [
    "import plotly  # required for contrib\n",
    "from catalyst.contrib.utils import plot_tensorboard_log\n",
    "\n",
    "plot_tensorboard_log(\n",
    "    logdir=\"./logs\", \n",
    "    step=\"epoch\", \n",
    "    metrics=[\n",
    "        \"loss\", \"accuracy\", \"precision\", \"recall\", \"iou\", \n",
    "        \"map05\", \"map10\", \"map20\",\n",
    "        \"ap/mean\", \"auc/mean\"\n",
    "    ]\n",
    ")"
   ]
  },
  {
   "cell_type": "markdown",
   "metadata": {
    "colab_type": "text",
    "id": "eOBi1DqJPt_F"
   },
   "source": [
    "## Your task\n",
    "\n",
    "We suggest you to improve this baseline. Feel free to use any kind of model architectures, loss functions, inputs, etc. in your experiments.\n",
    "\n",
    "\n",
    "YOUR TASK is to predict purchases in `merchant_type` in **January-February 2020** for all the clients (50k) from the given dataset.\n",
    "\n",
    "SUBMISSION FORMAT: You should submit a `.csv` file in the following format. \n",
    "\n",
    "The submission file should contain two columns:\n",
    "* `party_rk` -- client unique identifier\n",
    "* `recommendations` -- list of the **top 30** predicted `merchant_type`, sorted by predicted proba (pay attention!) **separated by commas**. \n",
    "\n",
    "The `.csv` file separator should be **semicolon (\";\")**. The submission file example can be generated by the pipeline shown below.\n",
    "\n",
    "EVALUATION: Your submission will be evaluated by metric **MAP@30**. Scores for this part of the hackathon will be given according to the value of this metric.\n",
    "\n",
    "Good luck!"
   ]
  },
  {
   "cell_type": "markdown",
   "metadata": {
    "colab_type": "text",
    "id": "-30pWSiQL7vY"
   },
   "source": [
    "## Submission file example"
   ]
  },
  {
   "cell_type": "code",
   "execution_count": null,
   "metadata": {
    "colab": {},
    "colab_type": "code",
    "id": "ylgn_EIXMQrr"
   },
   "outputs": [],
   "source": [
    "# create data loader for submission\n",
    "full_party = pd.read_csv(transactions_path, usecols=['party_rk']).party_rk.unique()\n",
    "full_sum, full_trans_type, full_merchant_type, full_labels = prepare_data(\n",
    "    full_party, mode=\"submission\"\n",
    ")\n",
    "full_dataset = RSDataset(\n",
    "   full_sum, full_trans_type, full_merchant_type, full_labels\n",
    ")\n",
    "full_loader = DataLoader(\n",
    "    full_dataset, batch_size=64, shuffle=False, num_workers=8, drop_last=False)"
   ]
  },
  {
   "cell_type": "code",
   "execution_count": null,
   "metadata": {
    "colab": {},
    "colab_type": "code",
    "id": "8tdEPJ0gMahr"
   },
   "outputs": [],
   "source": [
    "# get predictions from the model\n",
    "predictions = []\n",
    "for scores in tqdm(runner.predict_loader(loader=full_loader), total = len(full_loader)):\n",
    "    _, top_indices = scores.topk(k=30, dim=1, largest=True, sorted=True)\n",
    "    top_indices += 1\n",
    "    predictions += top_indices.detach().cpu().tolist()"
   ]
  },
  {
   "cell_type": "code",
   "execution_count": null,
   "metadata": {
    "colab": {},
    "colab_type": "code",
    "id": "xZhfVRYmMpdr"
   },
   "outputs": [],
   "source": [
    "# inverse mapping for merchant_type in predictions\n",
    "merchant_type_inverse_mapping = {k: v for v, k in mappings['merchant_type'].items()}\n",
    "def inverse_mapping(x):\n",
    "    return list(map(merchant_type_inverse_mapping.get, x))\n",
    "\n",
    "predictions = list(map(inverse_mapping, predictions))"
   ]
  },
  {
   "cell_type": "code",
   "execution_count": null,
   "metadata": {
    "colab": {},
    "colab_type": "code",
    "id": "6_CjmgByL9Vy"
   },
   "outputs": [],
   "source": [
    "# create submission table\n",
    "submission = pd.DataFrame({\n",
    "    \"party_rk\" : full_party, \n",
    "    \"recommendations\" : predictions\n",
    "})\n",
    "submission['recommendations'] = submission['recommendations'].apply(lambda x: \",\".join(map(str, x)))\n",
    "\n",
    "submission.to_csv('submission_[TEAM_NAME].csv', index=False, sep=\";\")"
   ]
  }
 ],
 "metadata": {
  "accelerator": "GPU",
  "colab": {
   "collapsed_sections": [],
   "name": "2020_hack_baseline_v3.ipynb",
   "provenance": []
  },
  "kernelspec": {
   "display_name": "Python 3",
   "language": "python",
   "name": "python3"
  },
  "language_info": {
   "codemirror_mode": {
    "name": "ipython",
    "version": 3
   },
   "file_extension": ".py",
   "mimetype": "text/x-python",
   "name": "python",
   "nbconvert_exporter": "python",
   "pygments_lexer": "ipython3",
   "version": "3.7.8"
  }
 },
 "nbformat": 4,
 "nbformat_minor": 1
}
