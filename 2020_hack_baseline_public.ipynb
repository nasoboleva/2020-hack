{
 "cells": [
  {
   "cell_type": "code",
   "execution_count": null,
   "metadata": {
    "colab": {
     "base_uri": "https://localhost:8080/",
     "height": 34
    },
    "colab_type": "code",
    "id": "NuFnchSfGdd8",
    "outputId": "0439e765-658f-4642-8cc4-33b98973c354"
   },
   "outputs": [],
   "source": [
    "# from google.colab import drive\n",
    "# drive.mount('/content/drive')"
   ]
  },
  {
   "cell_type": "code",
   "execution_count": null,
   "metadata": {
    "colab": {
     "base_uri": "https://localhost:8080/",
     "height": 1000
    },
    "colab_type": "code",
    "id": "qNkDouT4CfMz",
    "outputId": "5cd91eeb-d8d9-4c39-9169-70bad9357dca"
   },
   "outputs": [],
   "source": [
    "! pip install --upgrade numpy pandas tqdm torch catalyst==20.09"
   ]
  },
  {
   "cell_type": "code",
   "execution_count": null,
   "metadata": {
    "colab": {},
    "colab_type": "code",
    "id": "o08k0IFOCfM3"
   },
   "outputs": [],
   "source": [
    "import os\n",
    "import json\n",
    "import pickle\n",
    "from bisect import bisect_left, bisect_right\n",
    "from datetime import datetime, timedelta\n",
    "from collections import defaultdict, Counter\n",
    "\n",
    "import numpy as np\n",
    "import pandas as pd\n",
    "from tqdm import tqdm\n",
    "\n",
    "# GPU hack if you need\n",
    "os.environ[\"CUDA_VISIBLE_DEVICES\"] = \"0\""
   ]
  },
  {
   "cell_type": "markdown",
   "metadata": {
    "colab_type": "text",
    "id": "MD0TKDyMCfM7"
   },
   "source": [
    "# Data\n",
    "\n",
    "Columns\n",
    "- `party_rk` – client unique identifier\n",
    "- `account_rk` – client account unique identifier\n",
    "- `financial_account_type_cd` – debit/credit card flag\n",
    "- `transaction_dttm` – operation datetime\n",
    "- `transaction_type_desc` – purchase/payment/...\n",
    "- `transaction_amt_rur` – transaction price\n",
    "- `merchant_type` - DUTY FREE STORES/FUEL DEALERS/RESTAURANTS/ etc\n",
    "- `merchant_group_rk` - McDonald's/Wildberries/ etc\n",
    "\n",
    "It's important that table is already sorted by `transaction_dttm` column!!!"
   ]
  },
  {
   "cell_type": "code",
   "execution_count": null,
   "metadata": {
    "colab": {},
    "colab_type": "code",
    "id": "NxRbuZnfCfM8",
    "scrolled": false
   },
   "outputs": [],
   "source": [
    "DATADIR = \"./hackathon_data\" # \"./data\"\n",
    "transactions_path = f\"{DATADIR}/avk_hackathon_data_transactions.csv\"\n",
    "pd.read_csv(f\"{DATADIR}/avk_hackathon_data_transactions.csv\", nrows=5)"
   ]
  },
  {
   "cell_type": "markdown",
   "metadata": {
    "colab_type": "text",
    "id": "VT0HZR2_CfNA"
   },
   "source": [
    "## Mappings\n",
    "~1 min"
   ]
  },
  {
   "cell_type": "code",
   "execution_count": null,
   "metadata": {
    "colab": {},
    "colab_type": "code",
    "id": "AKHwvxB5CfNA"
   },
   "outputs": [],
   "source": [
    "# Prepare & save mappings\n",
    "mappings = defaultdict(dict)\n",
    "unk_token = \"<UNK>\"\n",
    "\n",
    "\n",
    "def create_mapping(values):\n",
    "    mapping = {unk_token: 0}\n",
    "    for v in values:\n",
    "        if not pd.isna(v):\n",
    "            mapping[str(v)] = len(mapping)\n",
    "\n",
    "    return mapping\n",
    "\n",
    "\n",
    "for col in tqdm(\n",
    "    [\n",
    "        \"transaction_type_desc\",\n",
    "        \"merchant_rk\",\n",
    "        \"merchant_type\",\n",
    "        \"merchant_group_rk\",\n",
    "        \"category\",\n",
    "        \"financial_account_type_cd\",\n",
    "    ]\n",
    "):\n",
    "\n",
    "    col_values = (\n",
    "        pd.read_csv(transactions_path, usecols=[col])[col]\n",
    "        .fillna(unk_token)\n",
    "        .astype(str)\n",
    "    )\n",
    "    mappings[col] = create_mapping(col_values.unique())\n",
    "    del col_values\n",
    "\n",
    "\n",
    "with open(f\"{DATADIR}/mappings.json\", \"w\") as f:\n",
    "    json.dump(mappings, f)"
   ]
  },
  {
   "cell_type": "code",
   "execution_count": null,
   "metadata": {
    "colab": {},
    "colab_type": "code",
    "id": "N_2kzArrCfND"
   },
   "outputs": [],
   "source": [
    "# load mappings\n",
    "with open(f\"{DATADIR}/mappings.json\", 'r') as f:\n",
    "    mappings = json.load(f)"
   ]
  },
  {
   "cell_type": "markdown",
   "metadata": {
    "colab_type": "text",
    "id": "Yc69QUTfCfNG"
   },
   "source": [
    "## Parse transactions by users\n",
    "~ 40 min"
   ]
  },
  {
   "cell_type": "code",
   "execution_count": null,
   "metadata": {
    "colab": {},
    "colab_type": "code",
    "id": "0ezUae-0CfNG"
   },
   "outputs": [],
   "source": [
    "# Prepare & save client data\n",
    "party2dates = defaultdict(list)  # for each party save a series of the transaction dates \n",
    "party2sum = defaultdict(list)  # for each party save a series of the transaction costs \n",
    "party2merchant_type = defaultdict(list)  # for each party save a series of the transaction_type \n",
    "party2trans_type = defaultdict(list)  # for each party save a series of the transaction merchant_type\n",
    "\n",
    "usecols = [\n",
    "    \"party_rk\",\n",
    "    \"transaction_dttm\",\n",
    "    \"transaction_amt_rur\",\n",
    "    \"merchant_type\",\n",
    "    \"transaction_type_desc\",\n",
    "]\n",
    "\n",
    "for chunk in tqdm(\n",
    "    pd.read_csv(transactions_path, usecols=usecols, chunksize=100_000)\n",
    "):\n",
    "\n",
    "    chunk[\"merchant_type\"] = (\n",
    "        chunk[\"merchant_type\"].fillna(unk_token).astype(str)\n",
    "    )\n",
    "    chunk[\"transaction_type_desc\"] = (\n",
    "        chunk[\"transaction_type_desc\"].fillna(unk_token).astype(str)\n",
    "    )\n",
    "    chunk[\"transaction_amt_rur\"] = chunk[\"transaction_amt_rur\"].fillna(0)\n",
    "\n",
    "    for i, row in chunk.iterrows():\n",
    "        party2dates[row.party_rk].append(row.transaction_dttm)\n",
    "        party2sum[row.party_rk].append(row.transaction_amt_rur)\n",
    "        party2merchant_type[row.party_rk].append(\n",
    "            mappings[\"merchant_type\"][row.merchant_type]\n",
    "        )\n",
    "        party2trans_type[row.party_rk].append(\n",
    "            mappings[\"transaction_type_desc\"][row.transaction_type_desc]\n",
    "        )\n",
    "\n",
    "    del chunk\n",
    "\n",
    "pickle.dump(party2dates, open(f\"{DATADIR}/party2dates.pkl\", \"wb\"))\n",
    "pickle.dump(party2sum, open(f\"{DATADIR}/party2sum.pkl\", \"wb\"))\n",
    "pickle.dump(party2merchant_type, open(f\"{DATADIR}/party2merchant_type.pkl\", \"wb\"))\n",
    "pickle.dump(party2trans_type, open(f\"{DATADIR}/party2trans_type.pkl\", \"wb\"))"
   ]
  },
  {
   "cell_type": "code",
   "execution_count": null,
   "metadata": {
    "colab": {},
    "colab_type": "code",
    "id": "FQfeDGZZCfNJ"
   },
   "outputs": [],
   "source": [
    "# load client data\n",
    "party2dates = pickle.load(open(f\"{DATADIR}/party2dates.pkl\", 'rb'))\n",
    "party2sum = pickle.load(open(f\"{DATADIR}/party2sum.pkl\", 'rb'))\n",
    "party2merchant_type = pickle.load(open(f\"{DATADIR}/party2merchant_type.pkl\", 'rb'))\n",
    "party2trans_type = pickle.load(open(f\"{DATADIR}/party2trans_type.pkl\", 'rb'))"
   ]
  },
  {
   "cell_type": "markdown",
   "metadata": {
    "colab_type": "text",
    "id": "FtLQTSfDCfNL"
   },
   "source": [
    "## PyTorch dataset"
   ]
  },
  {
   "cell_type": "code",
   "execution_count": null,
   "metadata": {
    "colab": {
     "base_uri": "https://localhost:8080/",
     "height": 34
    },
    "colab_type": "code",
    "id": "uf2Pmq0FCfNM",
    "outputId": "15431c89-e221-449a-d864-6aa348921ca7"
   },
   "outputs": [],
   "source": [
    "from sklearn.model_selection import train_test_split\n",
    "\n",
    "train_party, valid_party = train_test_split(\n",
    "    pd.read_csv(transactions_path, usecols=['party_rk']).party_rk.unique(), \n",
    "    train_size=0.8, random_state=42\n",
    ")\n",
    "\n",
    "print(f'Train: {len(train_party)} Val: {len(valid_party)}')"
   ]
  },
  {
   "cell_type": "code",
   "execution_count": null,
   "metadata": {
    "colab": {},
    "colab_type": "code",
    "id": "CGZuEgEoCfNO",
    "scrolled": true
   },
   "outputs": [],
   "source": [
    "predict_period_len = 60  # -- days\n",
    "train_predict_dates = (\n",
    "    pd.date_range(\"2019-03-01\", \"2019-10-31\", freq=\"MS\")\n",
    "    .strftime(\"%Y-%m-%d\")\n",
    "    .tolist()\n",
    ")\n",
    "valid_predict_dates = (\n",
    "    pd.date_range(\"2019-11-01\", \"2019-12-31\", freq=\"MS\")\n",
    "    .strftime(\"%Y-%m-%d\")\n",
    "    .tolist()\n",
    ")\n",
    "submission_predict_dates = (\n",
    "    pd.date_range(\"2020-01-01\", \"2020-02-28\", freq=\"2MS\")\n",
    "    .strftime(\"%Y-%m-%d\")\n",
    "    .tolist()\n",
    ")"
   ]
  },
  {
   "cell_type": "code",
   "execution_count": null,
   "metadata": {
    "colab": {},
    "colab_type": "code",
    "id": "Z6rAD6SdCfNR"
   },
   "outputs": [],
   "source": [
    "def prepare_data(party_list, mode=\"train\"):\n",
    "    \"\"\"\n",
    "    This function define the pipeline of the creation of train and valid samples.\n",
    "    We consider each client from party_list. For each client take each \n",
    "    predict_period_start from predict_dates list. All client transaction before\n",
    "    this date is our features. Next, we look at the customer's transactions in \n",
    "    the next two months. This transactions should be predicted. It will form \n",
    "    our labels vector.\n",
    "    \"\"\"\n",
    "\n",
    "    data_sum = []\n",
    "    data_trans_type = []\n",
    "    data_merchant_type = []\n",
    "    data_labels = []\n",
    "\n",
    "    for party_rk in tqdm(party_list):\n",
    "        date_series = party2dates[party_rk]\n",
    "        sum_series = party2sum[party_rk]\n",
    "        merch_type_series = party2merchant_type[party_rk]\n",
    "        trans_type_series = party2trans_type[party_rk]\n",
    "\n",
    "        if mode == \"train\":\n",
    "            predict_dates = train_predict_dates\n",
    "        elif mode == \"valid\":\n",
    "            predict_dates = valid_predict_dates\n",
    "        elif mode == \"submission\":\n",
    "            predict_dates = submission_predict_dates\n",
    "        else:\n",
    "            raise Exception(\"Unknown mode\")\n",
    "\n",
    "        for predict_period_start in predict_dates:\n",
    "\n",
    "            predict_period_end = datetime.strftime(\n",
    "                datetime.strptime(predict_period_start, \"%Y-%m-%d\")\n",
    "                + timedelta(days=predict_period_len),\n",
    "                \"%Y-%m-%d\",\n",
    "            )\n",
    "\n",
    "            l, r = (\n",
    "                bisect_left(date_series, predict_period_start),\n",
    "                bisect_right(date_series, predict_period_end),\n",
    "            )\n",
    "\n",
    "            history_merch_type = merch_type_series[:l]\n",
    "            history_sum = sum_series[:l]\n",
    "            history_trans_type = trans_type_series[:l]\n",
    "            predict_merch = merch_type_series[l:r]\n",
    "\n",
    "            if predict_merch and l or mode not in (\"train\", \"valid\"):\n",
    "                data_sum.append(history_sum)\n",
    "                data_trans_type.append(history_trans_type)\n",
    "                data_merchant_type.append(history_merch_type)\n",
    "                data_labels.append(predict_merch)\n",
    "\n",
    "    return data_sum, data_trans_type, data_merchant_type, data_labels"
   ]
  },
  {
   "cell_type": "code",
   "execution_count": null,
   "metadata": {
    "colab": {
     "base_uri": "https://localhost:8080/",
     "height": 51
    },
    "colab_type": "code",
    "id": "zZzpIPNNCfNT",
    "outputId": "d5ffbefb-272d-4ca1-f933-3a0ec422f5a9"
   },
   "outputs": [],
   "source": [
    "train_sum, train_trans_type, train_merchant_type, train_labels = prepare_data(\n",
    "    train_party, mode=\"train\"\n",
    ")\n",
    "valid_sum, valid_trans_type, valid_merchant_type, valid_labels = prepare_data(\n",
    "    valid_party, mode=\"valid\"\n",
    ")"
   ]
  },
  {
   "cell_type": "markdown",
   "metadata": {
    "colab_type": "text",
    "id": "i-xdScilCfNW"
   },
   "source": [
    "## PyTorch loaders"
   ]
  },
  {
   "cell_type": "code",
   "execution_count": null,
   "metadata": {
    "colab": {},
    "colab_type": "code",
    "id": "0gUqipggCfNX"
   },
   "outputs": [],
   "source": [
    "import torch\n",
    "from torch.utils.data import Dataset, DataLoader"
   ]
  },
  {
   "cell_type": "code",
   "execution_count": null,
   "metadata": {
    "colab": {},
    "colab_type": "code",
    "id": "Ex8SKiPqCfNZ"
   },
   "outputs": [],
   "source": [
    "MERCH_TYPE_NCLASSES = len(mappings['merchant_type'])\n",
    "TRANS_TYPE_NCLASSES = len(mappings['transaction_type_desc'])\n",
    "PADDING_LEN = 300"
   ]
  },
  {
   "cell_type": "code",
   "execution_count": null,
   "metadata": {
    "colab": {},
    "colab_type": "code",
    "id": "wjllhPWGCfNb"
   },
   "outputs": [],
   "source": [
    "class RSDataset(Dataset):\n",
    "    def __init__(self, data_sum, data_trans_type, data_merchant_type, labels):\n",
    "        super(RSDataset, self).__init__()\n",
    "        self.data_sum = data_sum\n",
    "        self.data_trans_type = data_trans_type\n",
    "        self.data_merchant_type = data_merchant_type\n",
    "        self.labels = labels\n",
    "\n",
    "    def __len__(self):\n",
    "        return len(self.data_sum)\n",
    "\n",
    "    def __getitem__(self, idx):\n",
    "        targets = np.zeros((MERCH_TYPE_NCLASSES - 1,), dtype=np.float32)\n",
    "        for m in self.labels[idx]:\n",
    "            if m:  # skip UNK, UNK-token should not be predicted\n",
    "                targets[m - 1] = 1.0\n",
    "\n",
    "        item = {\n",
    "            \"features\": {},\n",
    "            \"targets\": targets,\n",
    "        }\n",
    "\n",
    "        sum_feature = np.array(self.data_sum[idx][-PADDING_LEN:])\n",
    "        sum_feature = np.vectorize(lambda s: np.log(1 + s))(sum_feature)\n",
    "        if sum_feature.shape[0] < PADDING_LEN:\n",
    "            pad = np.zeros(\n",
    "                (PADDING_LEN - sum_feature.shape[0],), dtype=np.float32\n",
    "            )\n",
    "            sum_feature = np.hstack((sum_feature, pad))\n",
    "        item[\"features\"][\"sum\"] = torch.from_numpy(sum_feature).float()\n",
    "\n",
    "        for feature_name, feature_values in zip(\n",
    "            [\"trans_type\", \"merchant_type\"],\n",
    "            [self.data_trans_type[idx], self.data_merchant_type[idx]],\n",
    "        ):\n",
    "\n",
    "            feature_values = np.array(feature_values[-PADDING_LEN:])\n",
    "            mask = np.ones(feature_values.shape[0], dtype=np.float32)\n",
    "            if feature_values.shape[0] < PADDING_LEN:\n",
    "                feature_values = np.append(\n",
    "                    feature_values,\n",
    "                    np.zeros(\n",
    "                        PADDING_LEN - feature_values.shape[0], dtype=np.int64\n",
    "                    ),\n",
    "                )\n",
    "                mask = np.append(\n",
    "                    mask,\n",
    "                    np.zeros(PADDING_LEN - mask.shape[0], dtype=np.float32),\n",
    "                )\n",
    "            item[\"features\"][feature_name] = torch.from_numpy(feature_values).long()\n",
    "            item[\"features\"][f\"{feature_name}_mask\"] = torch.from_numpy(mask).float()\n",
    "\n",
    "        return item"
   ]
  },
  {
   "cell_type": "code",
   "execution_count": null,
   "metadata": {
    "colab": {},
    "colab_type": "code",
    "id": "D3-aV7lJCfNd"
   },
   "outputs": [],
   "source": [
    "train_dataset = RSDataset(\n",
    "    train_sum, train_trans_type, train_merchant_type, train_labels\n",
    ")\n",
    "valid_dataset = RSDataset(\n",
    "    valid_sum, valid_trans_type, valid_merchant_type, valid_labels\n",
    ")\n"
   ]
  },
  {
   "cell_type": "code",
   "execution_count": null,
   "metadata": {
    "colab": {},
    "colab_type": "code",
    "id": "H8jnB23BCfNg"
   },
   "outputs": [],
   "source": [
    "train_loader = DataLoader(\n",
    "    train_dataset, batch_size=64, shuffle=True, num_workers=4\n",
    ")\n",
    "valid_loader = DataLoader(\n",
    "    valid_dataset, batch_size=64, shuffle=False, num_workers=4\n",
    ")"
   ]
  },
  {
   "cell_type": "code",
   "execution_count": null,
   "metadata": {
    "colab": {},
    "colab_type": "code",
    "id": "SGRUJWR3CfNi",
    "scrolled": true
   },
   "outputs": [],
   "source": [
    "# sanity check\n",
    "# for i in tqdm(range(len(train_loader))):\n",
    "#     batch = next(iter(train_loader))"
   ]
  },
  {
   "cell_type": "markdown",
   "metadata": {
    "colab_type": "text",
    "id": "J67Ms2_jCfNk"
   },
   "source": [
    "## Model"
   ]
  },
  {
   "cell_type": "markdown",
   "metadata": {
    "colab_type": "text",
    "id": "RwwVKAh3AUx8"
   },
   "source": [
    "This is the baseline model for predicting purchases in `merchant_type` in the next 2 months"
   ]
  },
  {
   "cell_type": "code",
   "execution_count": null,
   "metadata": {
    "colab": {},
    "colab_type": "code",
    "id": "2kWquDGFCfNl"
   },
   "outputs": [],
   "source": [
    "import torch.nn as nn\n",
    "from collections import OrderedDict"
   ]
  },
  {
   "cell_type": "code",
   "execution_count": null,
   "metadata": {
    "colab": {},
    "colab_type": "code",
    "id": "C-PAEoqoCfNo"
   },
   "outputs": [],
   "source": [
    "params = {\n",
    "    'merchant_type_emb_dim': 64,\n",
    "    'trans_type_embedding': 3,\n",
    "    'transformer_nhead': 2,\n",
    "    'transformer_dim_feedforward': 256,\n",
    "    'transformer_dropout': 0.1,\n",
    "    'dense_unit': 256,\n",
    "    'num_layers': 4,\n",
    "}"
   ]
  },
  {
   "cell_type": "code",
   "execution_count": null,
   "metadata": {
    "colab": {
     "base_uri": "https://localhost:8080/",
     "height": 34
    },
    "colab_type": "code",
    "id": "NeAfj7h_CfNq",
    "outputId": "99271840-d606-4a6b-d976-a57c57663c0d"
   },
   "outputs": [],
   "source": [
    "MERCH_TYPE_NCLASSES, TRANS_TYPE_NCLASSES"
   ]
  },
  {
   "cell_type": "code",
   "execution_count": null,
   "metadata": {
    "colab": {},
    "colab_type": "code",
    "id": "oDhr4svJCfNs"
   },
   "outputs": [],
   "source": [
    "class Model(nn.Module):\n",
    "    def __init__(self):\n",
    "        super().__init__()\n",
    "\n",
    "        self.merchant_type_embedding = nn.Embedding(\n",
    "            MERCH_TYPE_NCLASSES, params[\"merchant_type_emb_dim\"]\n",
    "        )\n",
    "        self.trans_type_embedding = nn.Embedding(\n",
    "            TRANS_TYPE_NCLASSES, params[\"trans_type_embedding\"]\n",
    "        )\n",
    "\n",
    "        embedding_size = (\n",
    "            params[\"merchant_type_emb_dim\"]\n",
    "            + params[\"trans_type_embedding\"]\n",
    "            + 1\n",
    "        )\n",
    "\n",
    "        transformer_blocks = []\n",
    "        for i in range(params[\"num_layers\"]):\n",
    "            transformer_block = nn.TransformerEncoderLayer(\n",
    "                d_model=embedding_size,\n",
    "                nhead=params[\"transformer_nhead\"],\n",
    "                dim_feedforward=params[\"transformer_dim_feedforward\"],\n",
    "                dropout=params[\"transformer_dropout\"],\n",
    "            )\n",
    "            transformer_blocks.append(\n",
    "                (f\"transformer_block_{i}\", transformer_block)\n",
    "            )\n",
    "\n",
    "        self.transformer_encoder = nn.Sequential(\n",
    "            OrderedDict(transformer_blocks)\n",
    "        )\n",
    "\n",
    "        self.linear = nn.Linear(\n",
    "            in_features=embedding_size, out_features=params[\"dense_unit\"]\n",
    "        )\n",
    "        self.scorer = nn.Linear(\n",
    "            in_features=params[\"dense_unit\"],\n",
    "            out_features=MERCH_TYPE_NCLASSES - 1,\n",
    "        )\n",
    "\n",
    "    def forward(self, features):\n",
    "\n",
    "        merchant_type_emb = self.merchant_type_embedding(features[\"merchant_type\"])\n",
    "        trans_type_emb = self.trans_type_embedding(features[\"trans_type\"])\n",
    "\n",
    "        merchant_type_emb = merchant_type_emb * features[\"merchant_type_mask\"].unsqueeze(-1)\n",
    "        trans_type_emb = trans_type_emb * features[\"trans_type_mask\"].unsqueeze(-1)\n",
    "\n",
    "        embeddings = torch.cat(\n",
    "            (merchant_type_emb, trans_type_emb, features[\"sum\"].unsqueeze(-1)),\n",
    "            dim=-1,\n",
    "        )\n",
    "\n",
    "        transformer_output = self.transformer_encoder(embeddings)\n",
    "        pooling = torch.mean(transformer_output, dim=1)\n",
    "        linear = torch.tanh(self.linear(pooling))\n",
    "        merch_logits = self.scorer(linear)\n",
    "\n",
    "        return merch_logits"
   ]
  },
  {
   "cell_type": "markdown",
   "metadata": {
    "colab_type": "text",
    "id": "NszoLAhbCfNu"
   },
   "source": [
    "### One-batch-check"
   ]
  },
  {
   "cell_type": "code",
   "execution_count": null,
   "metadata": {
    "colab": {
     "base_uri": "https://localhost:8080/",
     "height": 34
    },
    "colab_type": "code",
    "id": "PVdmq86KCfNu",
    "outputId": "a98d1094-7aaf-46ca-a49d-b731fe8a8127"
   },
   "outputs": [],
   "source": [
    "%%time \n",
    "\n",
    "model = Model()\n",
    "criterion = nn.BCEWithLogitsLoss()\n",
    "batch = next(iter(train_loader))\n",
    "output = model(batch['features'])\n",
    "loss = criterion(output, batch['targets'])\n",
    "print(loss)"
   ]
  },
  {
   "cell_type": "markdown",
   "metadata": {
    "colab_type": "text",
    "id": "DZz71tEDCfNw"
   },
   "source": [
    "## Train loop with [Catalyst](https://github.com/catalyst-team/catalyst)\n",
    "\n",
    "[A comprehensive step-by-step guide to basic and advanced features](https://github.com/catalyst-team/catalyst#step-by-step-guide).\n",
    "\n",
    "---\n",
    "\n"
   ]
  },
  {
   "cell_type": "code",
   "execution_count": null,
   "metadata": {
    "colab": {},
    "colab_type": "code",
    "id": "DcF4frWZCfNx"
   },
   "outputs": [],
   "source": [
    "from catalyst import dl, utils\n",
    "from catalyst.utils import metrics"
   ]
  },
  {
   "cell_type": "markdown",
   "metadata": {
    "colab_type": "text",
    "id": "Q6EBSFvEwpQl"
   },
   "source": [
    "## Custom metrics for this hackathon"
   ]
  },
  {
   "cell_type": "code",
   "execution_count": null,
   "metadata": {
    "colab": {},
    "colab_type": "code",
    "id": "1OhGkjT0CfNz"
   },
   "outputs": [],
   "source": [
    "from typing import List, Optional, Sequence, Tuple, Union\n",
    "\n",
    "import numpy as np\n",
    "import torch\n",
    "from catalyst.utils.metrics.functional import preprocess_multi_label_metrics\n",
    "from catalyst.utils.torch import get_activation_fn\n",
    "\n",
    "\n",
    "def multi_label_metrics(\n",
    "    outputs: torch.Tensor,\n",
    "    targets: torch.Tensor,\n",
    "    threshold: Union[float, torch.Tensor],\n",
    "    activation: Optional[str] = None,\n",
    "    eps: float = 1e-7,\n",
    ") -> Tuple[torch.Tensor, torch.Tensor, torch.Tensor, torch.Tensor]:\n",
    "    \"\"\"\n",
    "    Computes multi-label precision for the specified activation and threshold.\n",
    "\n",
    "    Args:\n",
    "        outputs (torch.Tensor): NxK tensor that for each of the N examples\n",
    "            indicates the probability of the example belonging to each of\n",
    "            the K classes, according to the model.\n",
    "        targets (torch.Tensor): binary NxK tensort that encodes which of the K\n",
    "            classes are associated with the N-th input\n",
    "            (eg: a row [0, 1, 0, 1] indicates that the example is\n",
    "            associated with classes 2 and 4)\n",
    "        threshold (float): threshold for for model output\n",
    "        activation (str): activation to use for model output\n",
    "        eps (float): epsilon to avoid zero division\n",
    "    \n",
    "    Extended version of \n",
    "        https://github.com/catalyst-team/catalyst/blob/master/catalyst/utils/metrics/accuracy.py#L58\n",
    "\n",
    "    Returns:\n",
    "        computed multi-label metrics\n",
    "    \"\"\"\n",
    "    outputs, targets, _ = preprocess_multi_label_metrics(\n",
    "        outputs=outputs, targets=targets\n",
    "    )\n",
    "    activation_fn = get_activation_fn(activation)\n",
    "    outputs = activation_fn(outputs)\n",
    "\n",
    "    outputs = (outputs > threshold).long()\n",
    "\n",
    "    accuracy = (targets.long() == outputs.long()).sum().float() / np.prod(\n",
    "        targets.shape\n",
    "    )\n",
    "\n",
    "    intersection = (outputs.long() * targets.long()).sum(axis=1).float()\n",
    "    num_predicted = outputs.long().sum(axis=1).float()\n",
    "    num_relevant = targets.long().sum(axis=1).float()\n",
    "    union = num_predicted + num_relevant\n",
    "\n",
    "    # Precision = ({predicted items} && {relevant items}) / {predicted items}\n",
    "    precision = intersection / (num_predicted + eps * (num_predicted == 0))\n",
    "    # Recall = ({predicted items} && {relevant items}) / {relevant items}\n",
    "    recall = intersection / (num_relevant + eps * (num_relevant == 0))\n",
    "    # IoU = ({predicted items} && {relevant items}) / ({predicted items} || {relevant items})\n",
    "    iou = (intersection + eps * (union == 0)) / (union - intersection + eps)\n",
    "\n",
    "    return accuracy, precision.mean(), recall.mean(), iou.mean()\n",
    "\n",
    "\n",
    "def precision_at_k(\n",
    "    actual: torch.Tensor, \n",
    "    predicted: torch.Tensor, \n",
    "    k: int,\n",
    "):\n",
    "    \"\"\"\n",
    "    Computes precision at cutoff k for one sample\n",
    "\n",
    "    Args:\n",
    "       actual: (torch.Tensor): tensor of length K with predicted item_ids sorted by relevance\n",
    "       predicted (torch.Tensor): binary tensor that encodes which of the K\n",
    "           classes are associated with the N-th input\n",
    "           (eg: a row [0, 1, 0, 1] indicates that the example is\n",
    "           associated with classes 2 and 4)\n",
    "       k (int): parameter k of precison@k\n",
    "\n",
    "    Returns:\n",
    "       Computed value of precision@k for given sample\n",
    "    \"\"\"\n",
    "    p_at_k = 0.0\n",
    "    for item in predicted[:k]:\n",
    "        if actual[item]:\n",
    "            p_at_k += 1\n",
    "    p_at_k /= k\n",
    "\n",
    "    return p_at_k\n",
    "\n",
    "\n",
    "def average_precision_at_k(\n",
    "    actual: torch.Tensor, \n",
    "    predicted: torch.Tensor, \n",
    "    k: int,\n",
    ") -> float:\n",
    "    \"\"\"\n",
    "    Computes average precision at cutoff k for one sample\n",
    "\n",
    "    Args:\n",
    "      actual: (torch.Tensor): tensor of length K with predicted item_ids sorted by relevance\n",
    "      predicted (torch.Tensor): binary tensor that encodes which of the K\n",
    "          classes are associated with the N-th input\n",
    "          (eg: a row [0, 1, 0, 1] indicates that the example is\n",
    "          associated with classes 2 and 4)\n",
    "      k (int): parameter k of AP@k\n",
    "\n",
    "    Returns:\n",
    "        Computed value of AP@k for given sample\n",
    "    \"\"\"\n",
    "    ap_at_k = 0.0\n",
    "    for idx, item in enumerate(predicted[:k]):\n",
    "        if actual[item]:\n",
    "            ap_at_k += precision_at_k(actual, predicted, k=idx + 1)\n",
    "    ap_at_k /= min(k, actual.sum().cpu().numpy())\n",
    "    \n",
    "\n",
    "    return ap_at_k\n",
    "\n",
    "\n",
    "def mean_average_precision_at_k(\n",
    "    output: torch.Tensor, target: torch.Tensor, top_k: Tuple[int, ...] = (1,)\n",
    ") -> List[float]:\n",
    "    \"\"\"\n",
    "    Computes mean_average_precision_at_k at set of cutoff parameters K\n",
    "\n",
    "    Args:\n",
    "       outputs (torch.Tensor): NxK tensor that for each of the N examples\n",
    "           indicates the probability of the example belonging to each of\n",
    "           the K classes, according to the model.\n",
    "       targets (torch.Tensor): binary NxK tensort that encodes which of the K\n",
    "           classes are associated with the N-th input\n",
    "           (eg: a row [0, 1, 0, 1] indicates that the example is\n",
    "           associated with classes 2 and 4)\n",
    "       top_k (tuple): list of parameters k at which map@k will be computed\n",
    "\n",
    "\n",
    "    Returns:\n",
    "       List of computed values of map@k at each cutoff k from topk\n",
    "    \"\"\"\n",
    "    max_k = max(top_k)\n",
    "    batch_size = target.size(0)\n",
    "\n",
    "    _, top_indices = output.topk(k=max_k, dim=1, largest=True, sorted=True)\n",
    "\n",
    "    result = []\n",
    "    for k in top_k:  # loop over k\n",
    "        map_at_k = 0.0\n",
    "        for actual_target, predicted_items in zip(\n",
    "            target, top_indices\n",
    "        ):  # loop over samples\n",
    "            map_at_k += average_precision_at_k(\n",
    "                actual_target, predicted_items, k\n",
    "            )\n",
    "        map_at_k = map_at_k / batch_size\n",
    "        result.append(map_at_k)\n",
    "\n",
    "    return result"
   ]
  },
  {
   "cell_type": "code",
   "execution_count": null,
   "metadata": {
    "colab": {},
    "colab_type": "code",
    "id": "GygG0d1WCfN2"
   },
   "outputs": [],
   "source": [
    "# What is Runner?\n",
    "# https://catalyst-team.github.io/catalyst/api/core.html#runner\n",
    "class CustomRunner(dl.Runner):\n",
    "\n",
    "    def _handle_batch(self, batch):\n",
    "        # model train/valid step\n",
    "        features, targets = batch[\"features\"], batch[\"targets\"]\n",
    "        logits = self.model(features)\n",
    "        scores = torch.sigmoid(logits)\n",
    "\n",
    "        loss = self.criterion(logits, targets)\n",
    "        accuracy, precision, recall, iou = multi_label_metrics(\n",
    "            logits, targets, threshold=0.5, activation=\"Sigmoid\"\n",
    "        )\n",
    "        map05, map10, map20, map30 = mean_average_precision_at_k(\n",
    "            scores, targets, top_k=(5, 10, 20, 30)\n",
    "        )\n",
    "        \n",
    "        \n",
    "        self.input = {\"features\": features, \"targets\": targets}\n",
    "        self.output = {\"logits\": logits, \"scores\": scores}\n",
    "        if not self.is_train_loader:\n",
    "            batch_metrics = {\n",
    "                                \"precision\": precision,\n",
    "                                \"recall\": recall,\n",
    "                                \"map30\": map30\n",
    "                            }\n",
    "            self.batch_metrics.update(batch_metrics)\n",
    "\n",
    "        if self.is_train_loader:\n",
    "            batch_metrics = {\n",
    "                                \"loss\": loss,\n",
    "                            }\n",
    "            \n",
    "            self.batch_metrics.update(batch_metrics)\n",
    "            \n",
    "            loss.backward()\n",
    "            self.optimizer.step()\n",
    "            self.optimizer.zero_grad()\n",
    "    \n",
    "    def predict_batch(self, batch):\n",
    "        # model inference step\n",
    "        batch = utils.maybe_recursive_call(batch, \"to\", device=self.device)\n",
    "        logits = self.model(batch[\"features\"])\n",
    "        scores = torch.sigmoid(logits)\n",
    "        return scores"
   ]
  },
  {
   "cell_type": "code",
   "execution_count": null,
   "metadata": {
    "colab": {},
    "colab_type": "code",
    "id": "noTAPVPSCfN5"
   },
   "outputs": [],
   "source": [
    "model = Model()\n",
    "criterion = nn.BCEWithLogitsLoss()\n",
    "optimizer = torch.optim.Adam(model.parameters(), lr=0.001)\n",
    "\n",
    "loaders = {\"train\": train_loader, \"valid\": valid_loader}"
   ]
  },
  {
   "cell_type": "code",
   "execution_count": null,
   "metadata": {
    "colab": {},
    "colab_type": "code",
    "id": "CH-bnRkkSRYA"
   },
   "outputs": [],
   "source": [
    "%load_ext tensorboard\n",
    "%tensorboard --logdir ./logs"
   ]
  },
  {
   "cell_type": "code",
   "execution_count": null,
   "metadata": {
    "colab": {
     "base_uri": "https://localhost:8080/",
     "height": 955
    },
    "colab_type": "code",
    "id": "mhxJPaHTCfN6",
    "outputId": "f761ac29-ebf8-4292-e6ff-a1b99c524774"
   },
   "outputs": [
    {
     "name": "stdout",
     "output_type": "stream",
     "text": [
      "1/10 * Epoch (train):  16% 609/3803 [05:05<26:16,  2.03it/s, loss=0.062]"
     ]
    }
   ],
   "source": [
    "# For other minimal examples, please follow the link below\n",
    "# https://github.com/catalyst-team/catalyst#minimal-examples\n",
    "runner = CustomRunner()\n",
    "# model training\n",
    "runner.train(\n",
    "    model=model,\n",
    "    criterion=criterion,\n",
    "    optimizer=optimizer,\n",
    "    scheduler=None,\n",
    "    loaders=loaders,\n",
    "    logdir=\"./logs\",\n",
    "    num_epochs=10,\n",
    "    verbose=True,\n",
    "    load_best_on_end=True,\n",
    "    overfit=False,  #  <<<--- DO NOT FORGET TO MAKE IT ``False`` \n",
    "                    #  (``True`` uses only one batch to check pipeline correctness)\n",
    "    callbacks=[\n",
    "        # https://scikit-learn.org/stable/modules/generated/sklearn.metrics.average_precision_score.html\n",
    "        # dl.AveragePrecisionCallback(input_key=\"targets\", output_key=\"scores\", prefix=\"ap\"),\n",
    "        # https://scikit-learn.org/stable/modules/generated/sklearn.metrics.roc_auc_score.html\n",
    "        # dl.AUCCallback(input_key=\"targets\", output_key=\"scores\", prefix=\"auc\"),\n",
    "    ],\n",
    "    main_metric=\"map30\", # \"ap/mean\", \n",
    "    minimize_metric=False,\n",
    ")"
   ]
  },
  {
   "cell_type": "code",
   "execution_count": null,
   "metadata": {
    "colab": {},
    "colab_type": "code",
    "id": "GQxuxPukCfN9"
   },
   "outputs": [],
   "source": [
    "# model inference example\n",
    "# for prediction in runner.predict_loader(loader=loaders[\"valid\"]):\n",
    "#     assert prediction.detach().cpu().numpy().shape[-1] == MERCH_TYPE_NCLASSES-1"
   ]
  },
  {
   "cell_type": "code",
   "execution_count": null,
   "metadata": {
    "colab": {},
    "colab_type": "code",
    "id": "IFV8lYM9CfN_",
    "scrolled": true
   },
   "outputs": [],
   "source": [
    "# import plotly  # required for contrib\n",
    "# from catalyst.contrib.utils import plot_tensorboard_log\n",
    "\n",
    "# plot_tensorboard_log(logdir=\"./logs\", step=\"batch\")"
   ]
  },
  {
   "cell_type": "code",
   "execution_count": null,
   "metadata": {
    "colab": {},
    "colab_type": "code",
    "id": "Bte9iiW0CfOB",
    "scrolled": false
   },
   "outputs": [],
   "source": [
    "import plotly  # required for contrib\n",
    "from catalyst.contrib.utils import plot_tensorboard_log\n",
    "\n",
    "plot_tensorboard_log(\n",
    "    logdir=\"./logs\", \n",
    "    step=\"epoch\", \n",
    "    metrics=[\n",
    "        \"loss\", \"accuracy\", \"precision\", \"recall\", \"iou\", \n",
    "        \"map05\", \"map10\", \"map20\",\n",
    "        \"ap/mean\", \"auc/mean\"\n",
    "    ]\n",
    ")"
   ]
  },
  {
   "cell_type": "markdown",
   "metadata": {
    "colab_type": "text",
    "id": "eOBi1DqJPt_F"
   },
   "source": [
    "## Your task\n",
    "\n",
    "We suggest you to improve this baseline. Feel free to use any kind of model architectures, loss functions, inputs, etc. in your experiments.\n",
    "\n",
    "\n",
    "YOUR TASK is to predict purchases in `merchant_type` in **January-February 2020** for all the clients (50k) from the given dataset.\n",
    "\n",
    "SUBMISSION FORMAT: You should submit a `.csv` file in the following format. \n",
    "\n",
    "The submission file should contain two columns:\n",
    "* `party_rk` -- client unique identifier\n",
    "* `recommendations` -- list of the **top 30** predicted `merchant_type`, sorted by predicted proba (pay attention!) **separated by commas**. \n",
    "\n",
    "The `.csv` file separator should be **semicolon (\";\")**. The submission file example can be generated by the pipeline shown below.\n",
    "\n",
    "EVALUATION: Your submission will be evaluated by metric **MAP@30**. Scores for this part of the hackathon will be given according to the value of this metric.\n",
    "\n",
    "Good luck!"
   ]
  },
  {
   "cell_type": "markdown",
   "metadata": {
    "colab_type": "text",
    "id": "-30pWSiQL7vY"
   },
   "source": [
    "## Submission file example"
   ]
  },
  {
   "cell_type": "code",
   "execution_count": null,
   "metadata": {
    "colab": {},
    "colab_type": "code",
    "id": "ylgn_EIXMQrr"
   },
   "outputs": [],
   "source": [
    "# create data loader for submission\n",
    "full_party = pd.read_csv(transactions_path, usecols=['party_rk']).party_rk.unique()\n",
    "full_sum, full_trans_type, full_merchant_type, full_labels = prepare_data(\n",
    "    full_party, mode=\"submission\"\n",
    ")\n",
    "full_dataset = RSDataset(\n",
    "   full_sum, full_trans_type, full_merchant_type, full_labels\n",
    ")\n",
    "full_loader = DataLoader(\n",
    "    full_dataset, batch_size=64, shuffle=False, num_workers=8, drop_last=False)"
   ]
  },
  {
   "cell_type": "code",
   "execution_count": null,
   "metadata": {
    "colab": {},
    "colab_type": "code",
    "id": "8tdEPJ0gMahr"
   },
   "outputs": [],
   "source": [
    "# get predictions from the model\n",
    "predictions = []\n",
    "for scores in tqdm(runner.predict_loader(loader=full_loader), total = len(full_loader)):\n",
    "    _, top_indices = scores.topk(k=30, dim=1, largest=True, sorted=True)\n",
    "    top_indices += 1\n",
    "    predictions += top_indices.detach().cpu().tolist()"
   ]
  },
  {
   "cell_type": "code",
   "execution_count": null,
   "metadata": {
    "colab": {},
    "colab_type": "code",
    "id": "xZhfVRYmMpdr"
   },
   "outputs": [],
   "source": [
    "# inverse mapping for merchant_type in predictions\n",
    "merchant_type_inverse_mapping = {k: v for v, k in mappings['merchant_type'].items()}\n",
    "def inverse_mapping(x):\n",
    "    return list(map(merchant_type_inverse_mapping.get, x))\n",
    "\n",
    "predictions = list(map(inverse_mapping, predictions))"
   ]
  },
  {
   "cell_type": "code",
   "execution_count": null,
   "metadata": {
    "colab": {},
    "colab_type": "code",
    "id": "6_CjmgByL9Vy"
   },
   "outputs": [],
   "source": [
    "# create submission table\n",
    "submission = pd.DataFrame({\n",
    "    \"party_rk\" : full_party, \n",
    "    \"recommendations\" : predictions\n",
    "})\n",
    "submission['recommendations'] = submission['recommendations'].apply(lambda x: \",\".join(map(str, x)))\n",
    "\n",
    "submission.to_csv('submission_[TEAM_NAME].csv', index=False, sep=\";\")"
   ]
  }
 ],
 "metadata": {
  "accelerator": "GPU",
  "colab": {
   "collapsed_sections": [],
   "name": "2020_hack_baseline_v3.ipynb",
   "provenance": []
  },
  "kernelspec": {
   "display_name": "Python 3",
   "language": "python",
   "name": "python3"
  },
  "language_info": {
   "codemirror_mode": {
    "name": "ipython",
    "version": 3
   },
   "file_extension": ".py",
   "mimetype": "text/x-python",
   "name": "python",
   "nbconvert_exporter": "python",
   "pygments_lexer": "ipython3",
   "version": "3.7.8"
  }
 },
 "nbformat": 4,
 "nbformat_minor": 1
}
